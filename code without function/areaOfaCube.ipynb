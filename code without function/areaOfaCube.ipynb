{
 "cells": [
  {
   "cell_type": "code",
   "execution_count": 1,
   "id": "ad55ec10-4f05-4164-82b5-3606604acc41",
   "metadata": {},
   "outputs": [],
   "source": [
    "# WRITE A PROGRAM TO FIND THE AREA OF A CUBE. [HINT: A=6L2]"
   ]
  },
  {
   "cell_type": "code",
   "execution_count": 2,
   "id": "8d7352f2-811c-4680-bab1-f8b5bcb38ec6",
   "metadata": {},
   "outputs": [
    {
     "data": {
      "text/plain": [
       "150"
      ]
     },
     "execution_count": 2,
     "metadata": {},
     "output_type": "execute_result"
    }
   ],
   "source": [
    "L = 5\n",
    "def areaOfaCube(L):\n",
    "    a = 6*L**2\n",
    "    return a \n",
    "\n",
    "areaOfaCube(L)"
   ]
  }
 ],
 "metadata": {
  "kernelspec": {
   "display_name": "Python 3 (ipykernel)",
   "language": "python",
   "name": "python3"
  },
  "language_info": {
   "codemirror_mode": {
    "name": "ipython",
    "version": 3
   },
   "file_extension": ".py",
   "mimetype": "text/x-python",
   "name": "python",
   "nbconvert_exporter": "python",
   "pygments_lexer": "ipython3",
   "version": "3.10.8"
  }
 },
 "nbformat": 4,
 "nbformat_minor": 5
}

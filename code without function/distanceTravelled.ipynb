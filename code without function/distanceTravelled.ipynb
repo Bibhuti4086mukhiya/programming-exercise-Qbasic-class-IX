{
 "cells": [
  {
   "cell_type": "code",
   "execution_count": null,
   "id": "52d59f46-afe3-4df0-9894-635883683102",
   "metadata": {},
   "outputs": [],
   "source": [
    "# WRITE A PROGRAM TO CALCULATE THE DISTANCE TRAVELLED BY BODY. [S=UT+1/2AT^2]"
   ]
  },
  {
   "cell_type": "code",
   "execution_count": 1,
   "id": "8a6bb78b-ae29-4538-9df9-7d256c8433a3",
   "metadata": {},
   "outputs": [
    {
     "data": {
      "text/plain": [
       "18060.0"
      ]
     },
     "execution_count": 1,
     "metadata": {},
     "output_type": "execute_result"
    }
   ],
   "source": [
    "V = 10\n",
    "T = 60\n",
    "A = 9.7\n",
    "\n",
    "\n",
    "distanceTravelled= V*T+(1/2)*A*T**2\n",
    "\n",
    "\n",
    "distanceTravelled"
   ]
  }
 ],
 "metadata": {
  "kernelspec": {
   "display_name": "Python 3 (ipykernel)",
   "language": "python",
   "name": "python3"
  },
  "language_info": {
   "codemirror_mode": {
    "name": "ipython",
    "version": 3
   },
   "file_extension": ".py",
   "mimetype": "text/x-python",
   "name": "python",
   "nbconvert_exporter": "python",
   "pygments_lexer": "ipython3",
   "version": "3.10.8"
  }
 },
 "nbformat": 4,
 "nbformat_minor": 5
}

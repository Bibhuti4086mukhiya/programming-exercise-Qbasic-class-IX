{
 "cells": [
  {
   "cell_type": "code",
   "execution_count": 1,
   "id": "cacc6737-63e9-47c6-af10-ba0be3adc092",
   "metadata": {},
   "outputs": [],
   "source": [
    "# WRITE A PROGRAM TO FIND OUT FACTORIAL OF A GIVEN NUMBER USING FOR... NEXT"
   ]
  },
  {
   "cell_type": "code",
   "execution_count": 1,
   "id": "96fe161a-08f5-4e4d-b5ed-73fb84547fdd",
   "metadata": {},
   "outputs": [
    {
     "name": "stdout",
     "output_type": "stream",
     "text": [
      "factorial:  5 120\n"
     ]
    }
   ],
   "source": [
    "number = 5\n",
    "f=1\n",
    "for i in range(1,number+1):\n",
    "    f = f * i\n",
    "print('factorial: ' + '' ,i, f)"
   ]
  }
 ],
 "metadata": {
  "kernelspec": {
   "display_name": "Python 3 (ipykernel)",
   "language": "python",
   "name": "python3"
  },
  "language_info": {
   "codemirror_mode": {
    "name": "ipython",
    "version": 3
   },
   "file_extension": ".py",
   "mimetype": "text/x-python",
   "name": "python",
   "nbconvert_exporter": "python",
   "pygments_lexer": "ipython3",
   "version": "3.10.8"
  }
 },
 "nbformat": 4,
 "nbformat_minor": 5
}

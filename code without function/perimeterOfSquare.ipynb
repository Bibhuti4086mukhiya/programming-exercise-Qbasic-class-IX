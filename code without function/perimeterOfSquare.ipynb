{
 "cells": [
  {
   "cell_type": "code",
   "execution_count": 4,
   "id": "30cb98be-6a8e-42db-88bd-520c446094c3",
   "metadata": {},
   "outputs": [
    {
     "name": "stdout",
     "output_type": "stream",
     "text": [
      "lenght of square 4\n"
     ]
    },
    {
     "name": "stdout",
     "output_type": "stream",
     "text": [
      "perimeter of square : 16\n"
     ]
    }
   ],
   "source": [
    "# WRITE A PROGRAM TO INPUT THE LENGTH AND PRINT THE PERIMETER OF A SQUARE\n",
    "length = int(input(\"lenght of square\"))\n",
    "print(\"perimeter of square :\",length*4)"
   ]
  },
  {
   "cell_type": "code",
   "execution_count": 6,
   "id": "0f621e06-0d18-4afa-9306-bc9d02024092",
   "metadata": {},
   "outputs": [
    {
     "name": "stdout",
     "output_type": "stream",
     "text": [
      "enter nepali currency 10\n"
     ]
    },
    {
     "name": "stdout",
     "output_type": "stream",
     "text": [
      "indian current :  16.0\n"
     ]
    }
   ],
   "source": [
    "# WRITE A PROGRAM TO INPNUT NEPALI CURRENCY AND CONVERT IT INTO INDIAN CURRENCY\n",
    "nepaliRupee=int(input(\"enter nepali currency\"))\n",
    "print(\"indian current : \",nepaliRupee*1.6)"
   ]
  },
  {
   "cell_type": "code",
   "execution_count": 36,
   "id": "a4266c9b-e4c7-4c09-af49-6f52e0a9d4a5",
   "metadata": {},
   "outputs": [
    {
     "name": "stdout",
     "output_type": "stream",
     "text": [
      "it is palindrome\n"
     ]
    }
   ],
   "source": [
    "# WRITE A PROGRAM TO ENTER A NUMBER AND CHECK WHETHER THE NUMBER IS PALINDROME OR NOT.\n",
    "# to solve this problem \n",
    "# 1 if statement which compare the intial and final number\n",
    "# loop which separete the number one by one and need to combine the number together. \n",
    "\n",
    "def giveMeLastNumber(num):\n",
    "    a = num // 10\n",
    "    return a, num%10\n",
    "\n",
    "num = 121\n",
    "ori_num = num\n",
    "res = 0\n",
    "while True:\n",
    "    a, remainder = giveMeLastNumber(num)\n",
    "    if res==0:\n",
    "        res = remainder\n",
    "    else:\n",
    "        res = res* 10 + remainder\n",
    "    num = a\n",
    "    if a == 0:\n",
    "        if res == ori_num:\n",
    "            print(\"it is palindrome\")\n",
    "        else:\n",
    "            print(\"it is not palindrome\")\n",
    "        break\n",
    "\n",
    "\n"
   ]
  },
  {
   "cell_type": "code",
   "execution_count": 31,
   "id": "99b29199-5319-4636-a075-e2229e4a10e0",
   "metadata": {},
   "outputs": [
    {
     "data": {
      "text/plain": [
       "(12, 1)"
      ]
     },
     "execution_count": 31,
     "metadata": {},
     "output_type": "execute_result"
    }
   ],
   "source": [
    "\n",
    "def giveMeLastNumber(num):\n",
    "    a = num // 10\n",
    "    return a, num%10\n",
    "\n",
    "giveMeLastNumber(121)"
   ]
  },
  {
   "cell_type": "code",
   "execution_count": null,
   "id": "ec75d4db-0643-45bf-9ad8-7945c9c99100",
   "metadata": {},
   "outputs": [],
   "source": []
  },
  {
   "cell_type": "code",
   "execution_count": 533,
   "id": "443072f8-95ab-4ede-b9c6-46b617673872",
   "metadata": {},
   "outputs": [],
   "source": [
    "# WRITE A PROGRAM TO INPUT A NUMBER AND CHECK WHETHER THE NUMBER IS ARMSTRONG OR NOT.\n",
    "# final pos: armstrong number\n",
    "#     * sum \n",
    "#     * raise power\n",
    "#     * get individual digits\n",
    "#     * number of digit\n",
    "\n",
    "# initial pos:\n",
    "#     * indivial digit digit\n",
    "#     * power\n",
    "#     * sum\n",
    "#     * count\n",
    "\n",
    "# f.p: count\n",
    "#     * digit remove\n",
    "#     * counter\n",
    "# init:\n",
    "#     * given is a digit\n",
    "\n",
    "\n",
    "def giveMeLastNumber(number):\n",
    "    a = num // 10\n",
    "    return a, num%10\n",
    "\n",
    "def countNumber(number):\n",
    "    count=0\n",
    "    while (number > 0):\n",
    "      number = number//10\n",
    "      count = count + 1\n",
    "    return count      \n"
   ]
  },
  {
   "cell_type": "code",
   "execution_count": 535,
   "id": "25c835e6-27e6-4943-a1c9-3314d8fcb354",
   "metadata": {},
   "outputs": [
    {
     "name": "stdout",
     "output_type": "stream",
     "text": [
      "3\n",
      "4\n",
      "0\n",
      "64\n"
     ]
    }
   ],
   "source": [
    "number = 123\n",
    "\n",
    "numberDigit=countNumber(number)\n",
    "\n",
    "\n",
    "print(numberDigit)\n",
    "print(remainder)\n",
    "print(a)\n",
    "\n",
    "while True: \n",
    "    root=remainder**numberDigit\n",
    "    print(root)\n",
    "    break\n",
    "\n"
   ]
  }
 ],
 "metadata": {
  "kernelspec": {
   "display_name": "Python 3 (ipykernel)",
   "language": "python",
   "name": "python3"
  },
  "language_info": {
   "codemirror_mode": {
    "name": "ipython",
    "version": 3
   },
   "file_extension": ".py",
   "mimetype": "text/x-python",
   "name": "python",
   "nbconvert_exporter": "python",
   "pygments_lexer": "ipython3",
   "version": "3.10.8"
  }
 },
 "nbformat": 4,
 "nbformat_minor": 5
}

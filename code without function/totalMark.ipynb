{
 "cells": [
  {
   "cell_type": "code",
   "execution_count": 1,
   "id": "b22b370b-c3e8-41bf-89b1-6e47bd6d4f9e",
   "metadata": {},
   "outputs": [],
   "source": [
    " # WRITE A PROGRAM TO INPUT MARKS OF ALL YOUR SUBJECTS AND PRINT TOTAL, PERCENTAGE, RESULT AND DIVISION "
   ]
  },
  {
   "cell_type": "code",
   "execution_count": 35,
   "id": "463c0c7d-ab1d-4f6b-918f-01051160b33e",
   "metadata": {},
   "outputs": [
    {
     "name": "stdin",
     "output_type": "stream",
     "text": [
      "enter your mark subjectA 30\n",
      "enter your mark subjectA 70\n",
      "enter your mark subjectA 90\n"
     ]
    },
    {
     "name": "stdout",
     "output_type": "stream",
     "text": [
      "190\n",
      "63.33333333333333\n",
      "result is pass\n",
      "B grade\n"
     ]
    }
   ],
   "source": [
    "subjectA = int(input('enter your mark subjectA'))\n",
    "subjectB = int(input('enter your mark subjectA'))\n",
    "subjectC = int(input('enter your mark subjectA'))\n",
    "\n",
    "totalmark =subjectA + subjectB + subjectC\n",
    "fullMark = 300\n",
    "percentageOfStudent = (totalmark/fullMark)*100\n",
    "\n",
    "\n",
    "def result(subjectA,subjectB,subjectC):\n",
    "    if subjectA and subjectB and subjectC < 40:\n",
    "        print(\"result is fail\")\n",
    "    else:\n",
    "        print(\"result is pass\")\n",
    "        \n",
    "def division(percentageOfStudent):\n",
    "    if percentageOfStudent > 70:\n",
    "            print('A grade')\n",
    "    elif percentageOfStudent > 40:\n",
    "            print('B grade')\n",
    "    else:\n",
    "            print('fail Division')  \n",
    "            \n",
    "print(totalmark)\n",
    "print(percentageOfStudent)\n",
    "result(subjectA,subjectB,subjectC)\n",
    "division(percentageOfStudent)"
   ]
  },
  {
   "cell_type": "code",
   "execution_count": null,
   "id": "adba733b-e58b-40b2-8067-1dfbe119531c",
   "metadata": {},
   "outputs": [],
   "source": []
  }
 ],
 "metadata": {
  "kernelspec": {
   "display_name": "Python 3 (ipykernel)",
   "language": "python",
   "name": "python3"
  },
  "language_info": {
   "codemirror_mode": {
    "name": "ipython",
    "version": 3
   },
   "file_extension": ".py",
   "mimetype": "text/x-python",
   "name": "python",
   "nbconvert_exporter": "python",
   "pygments_lexer": "ipython3",
   "version": "3.10.8"
  }
 },
 "nbformat": 4,
 "nbformat_minor": 5
}

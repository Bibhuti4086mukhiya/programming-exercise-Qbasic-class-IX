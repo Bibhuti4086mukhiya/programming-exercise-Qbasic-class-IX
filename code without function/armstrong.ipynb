{
 "cells": [
  {
   "cell_type": "code",
   "execution_count": 18,
   "id": "3ff17375-0f2d-49a3-8c80-93ab59a5ff9f",
   "metadata": {},
   "outputs": [],
   "source": [
    "# WRITE A PROGRAM TO INPUT A NUMBER AND CHECK WHETHER THE NUMBER IS ARMSTRONG OR NOT.\n",
    "# final pos: armstrong number\n",
    "#     * sum \n",
    "#     * raise power\n",
    "#     * get individual digits\n",
    "#     * number of digit\n",
    "\n",
    "# initial pos:\n",
    "#     * indivial digit digit\n",
    "#     * power\n",
    "#     * sum\n",
    "#     * count\n",
    "\n",
    "# f.p: count\n",
    "#     * digit remove\n",
    "#     * counter\n",
    "# init:\n",
    "#     * given is a digit\n",
    "\n",
    "\n",
    "def giveMeLastNumber(number):\n",
    "    a = number // 10\n",
    "    return a, number%10\n",
    "\n",
    "def countNumber(number):\n",
    "    count=0\n",
    "    while (number > 0):\n",
    "      number = number//10\n",
    "      count = count + 1\n",
    "    return count      \n"
   ]
  },
  {
   "cell_type": "code",
   "execution_count": 25,
   "id": "f0981e29-f039-4851-95d4-01fbbbdda53b",
   "metadata": {},
   "outputs": [
    {
     "name": "stdout",
     "output_type": "stream",
     "text": [
      "4\n",
      "1\n",
      "0\n",
      "it is not armstrong\n"
     ]
    }
   ],
   "source": [
    "number = 153\n",
    "\n",
    "numberDigit=countNumber(number)\n",
    "ori_num = number\n",
    "\n",
    "result  = 0\n",
    "while True: \n",
    "    a, remainder = giveMeLastNumber(number)\n",
    "    root=remainder**numberDigit\n",
    "    result = result + root\n",
    "    number=a\n",
    "    if a == 0:\n",
    "        if result == ori_num:\n",
    "            print(\"it is armstrong\")\n",
    "        else:\n",
    "            print(\"it is not armstrong\")\n",
    "        break\n",
    "\n"
   ]
  },
  {
   "cell_type": "code",
   "execution_count": null,
   "id": "93726099-4cb7-45a1-b853-915d24682f2c",
   "metadata": {},
   "outputs": [],
   "source": []
  }
 ],
 "metadata": {
  "kernelspec": {
   "display_name": "Python 3 (ipykernel)",
   "language": "python",
   "name": "python3"
  },
  "language_info": {
   "codemirror_mode": {
    "name": "ipython",
    "version": 3
   },
   "file_extension": ".py",
   "mimetype": "text/x-python",
   "name": "python",
   "nbconvert_exporter": "python",
   "pygments_lexer": "ipython3",
   "version": "3.9.12"
  }
 },
 "nbformat": 4,
 "nbformat_minor": 5
}

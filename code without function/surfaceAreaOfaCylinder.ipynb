{
 "cells": [
  {
   "cell_type": "code",
   "execution_count": null,
   "id": "6d1a367c-45d7-4267-9ab2-ae123f582326",
   "metadata": {},
   "outputs": [],
   "source": [
    "# WRITE A PROGRAM TO FIND THE TOTAL SURFACE AREA OF A CYLINDER.[A=2πR(R+H)]"
   ]
  },
  {
   "cell_type": "code",
   "execution_count": 11,
   "id": "44105311-a1c2-402f-9dd4-da075ac3138b",
   "metadata": {},
   "outputs": [
    {
     "name": "stdout",
     "output_type": "stream",
     "text": [
      "1257.142857142857\n"
     ]
    }
   ],
   "source": [
    "pi=22/7\n",
    "R=7\n",
    "H=8\n",
    "def surfaceAreaOfaCylinder(pi=22/7,R=10,H=10):\n",
    "    area= 2*pi*R*(R+H)\n",
    "    return area\n",
    "\n",
    "print(surfaceAreaOfaCylinder(pi))"
   ]
  }
 ],
 "metadata": {
  "kernelspec": {
   "display_name": "Python 3 (ipykernel)",
   "language": "python",
   "name": "python3"
  },
  "language_info": {
   "codemirror_mode": {
    "name": "ipython",
    "version": 3
   },
   "file_extension": ".py",
   "mimetype": "text/x-python",
   "name": "python",
   "nbconvert_exporter": "python",
   "pygments_lexer": "ipython3",
   "version": "3.10.8"
  }
 },
 "nbformat": 4,
 "nbformat_minor": 5
}

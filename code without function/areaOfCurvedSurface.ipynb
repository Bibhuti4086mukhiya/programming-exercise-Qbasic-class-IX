{
 "cells": [
  {
   "cell_type": "code",
   "execution_count": null,
   "id": "5a0eec6a-c2e3-4402-8353-f30ae77843ef",
   "metadata": {},
   "outputs": [],
   "source": [
    " # WRITE A PROGRAM TO FIND THE CURVED SURFACE AREA OF A SQUARE.[A=2πRH]"
   ]
  },
  {
   "cell_type": "code",
   "execution_count": 5,
   "id": "32b03820-f177-479a-8364-3b9c090cfbd6",
   "metadata": {},
   "outputs": [
    {
     "name": "stdout",
     "output_type": "stream",
     "text": [
      "352.0\n"
     ]
    }
   ],
   "source": [
    "Pi = 22/7\n",
    "R = 7\n",
    "H = 8\n",
    "def curvedSurfaceAreaOfaSquare(Pi,R,H):\n",
    "\n",
    "    area = 2*Pi*R*H\n",
    "    return area\n",
    "        \n",
    "print(curvedSurfaceAreaOfaSquare(Pi,R,H))\n",
    "    \n"
   ]
  }
 ],
 "metadata": {
  "kernelspec": {
   "display_name": "Python 3 (ipykernel)",
   "language": "python",
   "name": "python3"
  },
  "language_info": {
   "codemirror_mode": {
    "name": "ipython",
    "version": 3
   },
   "file_extension": ".py",
   "mimetype": "text/x-python",
   "name": "python",
   "nbconvert_exporter": "python",
   "pygments_lexer": "ipython3",
   "version": "3.10.8"
  }
 },
 "nbformat": 4,
 "nbformat_minor": 5
}

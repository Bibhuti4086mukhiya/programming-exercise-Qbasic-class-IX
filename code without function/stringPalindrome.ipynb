{
 "cells": [
  {
   "cell_type": "code",
   "execution_count": 1,
   "id": "4d2fe183-9aba-4bde-9b0d-4bbf42990d57",
   "metadata": {},
   "outputs": [],
   "source": [
    "# 6. WRITE A PROGRAM TO CHECK WHETHER A STRING IS PALINDROME OR NOT.\n",
    "# reverse word\n",
    "# if statement for check\n",
    "# loop for \n",
    "# final pos:\n",
    "#     *\n",
    "\n",
    "# word = 'madam'\n",
    "\n",
    "# a = 'madam'\n",
    "# b= 'madam'\n",
    "# if a==b:\n",
    "#     print('yes')\n",
    "# else:\n",
    "#     print('no')"
   ]
  },
  {
   "cell_type": "code",
   "execution_count": 2,
   "id": "8a7efa1b-e424-4f0e-9e0b-6359c1263ce2",
   "metadata": {},
   "outputs": [],
   "source": [
    "# print(\"a\" + \"b\")\n",
    "# a='ajdk'\n",
    "# print(len(a))\n",
    "# print(a[0])"
   ]
  },
  {
   "cell_type": "code",
   "execution_count": 3,
   "id": "6ba4255c-f6d1-40ec-a44c-0aa14ad09a7f",
   "metadata": {},
   "outputs": [],
   "source": [
    "# 1. \"a\" + \"b\" = \"ab\" 2. a = \"hello\" a[0] and 3. len(a)\n",
    "\n"
   ]
  },
  {
   "cell_type": "code",
   "execution_count": 1,
   "id": "e738a77e-5946-4b4d-9043-bee1feb35097",
   "metadata": {},
   "outputs": [],
   "source": [
    "word = 'madah'"
   ]
  },
  {
   "cell_type": "code",
   "execution_count": 2,
   "id": "d7e6fa60-8dbf-4b46-b4b0-5afa354ced63",
   "metadata": {},
   "outputs": [
    {
     "name": "stdout",
     "output_type": "stream",
     "text": [
      "hadam\n",
      "madah\n"
     ]
    }
   ],
   "source": [
    "rev=''\n",
    "for i in range(len(word)-1,-1,-1):\n",
    "     rev+=word[i]\n",
    "     \n",
    "print(rev)\n",
    "print(word)"
   ]
  },
  {
   "cell_type": "code",
   "execution_count": 6,
   "id": "42fc3bc6-77b6-4da0-b409-d0ea84b8148b",
   "metadata": {},
   "outputs": [
    {
     "name": "stdout",
     "output_type": "stream",
     "text": [
      "it is palindrome\n"
     ]
    }
   ],
   "source": [
    "if rev==word:\n",
    "    print('it is palindrome')\n",
    "else:\n",
    "    print('it is not palindrome')"
   ]
  }
 ],
 "metadata": {
  "kernelspec": {
   "display_name": "Python 3 (ipykernel)",
   "language": "python",
   "name": "python3"
  },
  "language_info": {
   "codemirror_mode": {
    "name": "ipython",
    "version": 3
   },
   "file_extension": ".py",
   "mimetype": "text/x-python",
   "name": "python",
   "nbconvert_exporter": "python",
   "pygments_lexer": "ipython3",
   "version": "3.10.8"
  }
 },
 "nbformat": 4,
 "nbformat_minor": 5
}

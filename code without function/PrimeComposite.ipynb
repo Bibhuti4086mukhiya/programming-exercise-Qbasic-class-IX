{
 "cells": [
  {
   "cell_type": "code",
   "execution_count": 1,
   "id": "5094ec63-fa17-4480-8865-63b1c5dd8c75",
   "metadata": {},
   "outputs": [],
   "source": [
    "# WRITE A PROGRAM TO CHECK WHETHER AN INPUT NUMBER IS PRIME OR COMPOSITE.\n",
    "# prime number is division by it 1 and itself\n",
    "# composite number is division by other number also"
   ]
  },
  {
   "cell_type": "code",
   "execution_count": 19,
   "id": "72a2d293-9f03-4cf2-bb5d-56de328b09d7",
   "metadata": {},
   "outputs": [
    {
     "name": "stdout",
     "output_type": "stream",
     "text": [
      "prime\n"
     ]
    }
   ],
   "source": [
    "num = 9\n",
    "for i in range(2,num):\n",
    "    if num % i==0:\n",
    "        print(\"it is composite number\")\n",
    "        print(i,num)  \n",
    "    elif num % 3==0:\n",
    "         print(\"it is composite number\")\n",
    "    elif num % 5==0:\n",
    "         print(\"it is composite number\")\n",
    "    else:\n",
    "        print('prime')\n",
    "    break\n",
    "\n"
   ]
  },
  {
   "cell_type": "code",
   "execution_count": 5,
   "id": "bbf2f7ae-3d8e-475a-b916-2e25077d6d19",
   "metadata": {},
   "outputs": [
    {
     "name": "stdout",
     "output_type": "stream",
     "text": [
      "it is composite number\n"
     ]
    }
   ],
   "source": [
    "num=8\n",
    "i=2 \n",
    "is_composite = False\n",
    "while (i<num):\n",
    "    if num % i==0:\n",
    "         is_composite = True\n",
    "         print(\"it is composite number\")\n",
    "         break\n",
    "    i+=1\n",
    "if not is_composite:\n",
    "    print('it is a prime number')\n"
   ]
  }
 ],
 "metadata": {
  "kernelspec": {
   "display_name": "Python 3 (ipykernel)",
   "language": "python",
   "name": "python3"
  },
  "language_info": {
   "codemirror_mode": {
    "name": "ipython",
    "version": 3
   },
   "file_extension": ".py",
   "mimetype": "text/x-python",
   "name": "python",
   "nbconvert_exporter": "python",
   "pygments_lexer": "ipython3",
   "version": "3.10.8"
  }
 },
 "nbformat": 4,
 "nbformat_minor": 5
}

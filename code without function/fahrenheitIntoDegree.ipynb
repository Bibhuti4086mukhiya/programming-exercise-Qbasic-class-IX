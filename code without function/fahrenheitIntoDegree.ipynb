{
 "cells": [
  {
   "cell_type": "code",
   "execution_count": null,
   "id": "5f69175c-5985-4b30-a26e-e1db8c3f303d",
   "metadata": {},
   "outputs": [],
   "source": [
    " # WRITE A PROGRAM TO INPUT THE TEMPERATURE IN FAHRENHEIT AND DISPLAY IN DEGREE CELSIUS."
   ]
  },
  {
   "cell_type": "code",
   "execution_count": 1,
   "id": "f5706480-2264-458c-9710-76d58305ff18",
   "metadata": {},
   "outputs": [
    {
     "data": {
      "text/plain": [
       "-17.22222222222222"
      ]
     },
     "execution_count": 1,
     "metadata": {},
     "output_type": "execute_result"
    }
   ],
   "source": [
    "F=1\n",
    "celsius =  ((F-32)*5)/9\n",
    "celsius"
   ]
  }
 ],
 "metadata": {
  "kernelspec": {
   "display_name": "Python 3 (ipykernel)",
   "language": "python",
   "name": "python3"
  },
  "language_info": {
   "codemirror_mode": {
    "name": "ipython",
    "version": 3
   },
   "file_extension": ".py",
   "mimetype": "text/x-python",
   "name": "python",
   "nbconvert_exporter": "python",
   "pygments_lexer": "ipython3",
   "version": "3.10.8"
  }
 },
 "nbformat": 4,
 "nbformat_minor": 5
}

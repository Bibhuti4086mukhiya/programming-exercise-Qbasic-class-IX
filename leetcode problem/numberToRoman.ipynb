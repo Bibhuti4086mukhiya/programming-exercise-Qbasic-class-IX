{
 "cells": [
  {
   "cell_type": "code",
   "execution_count": null,
   "id": "c0928771-f4d6-4c43-955b-3507755c707d",
   "metadata": {},
   "outputs": [],
   "source": [
    "22\n",
    "20+2\n",
    "10+10+2\n",
    "xxii"
   ]
  },
  {
   "cell_type": "code",
   "execution_count": null,
   "id": "d481bf88-d250-43e9-bbbe-629154cd89f4",
   "metadata": {},
   "outputs": [],
   "source": [
    "112\n",
    "100+10+2\n",
    "cxii"
   ]
  },
  {
   "cell_type": "code",
   "execution_count": 11,
   "id": "6b0c0d2f-b2a9-48de-9c6d-cecafbd55a35",
   "metadata": {},
   "outputs": [
    {
     "data": {
      "text/plain": [
       "'cxii'"
      ]
     },
     "execution_count": 11,
     "metadata": {},
     "output_type": "execute_result"
    }
   ],
   "source": [
    "list1='iixc'\n",
    "q=list1[::-1]\n",
    "q"
   ]
  },
  {
   "cell_type": "code",
   "execution_count": 189,
   "id": "db6f4891-b88c-45cb-9a95-13970ecc9380",
   "metadata": {},
   "outputs": [
    {
     "data": {
      "text/plain": [
       "'iii'"
      ]
     },
     "execution_count": 189,
     "metadata": {},
     "output_type": "execute_result"
    }
   ],
   "source": [
    "def checkForI(n):\n",
    "    a=''\n",
    "    if n<4:\n",
    "        a+='i'*n\n",
    "    return a\n",
    "checkForI(3)"
   ]
  },
  {
   "cell_type": "code",
   "execution_count": 176,
   "id": "5b241338-49ba-4707-8ed4-7196b6f353b3",
   "metadata": {},
   "outputs": [
    {
     "name": "stdout",
     "output_type": "stream",
     "text": [
      "mmmcmxcix"
     ]
    }
   ],
   "source": [
    "def checkForI(n):\n",
    "    a='i'*n\n",
    "    return a\n",
    "\n",
    "def checkForC(n):\n",
    "    if 200==n:\n",
    "        return 'cc'\n",
    "    if 300==n:\n",
    "        return 'ccc'\n",
    "\n",
    "def checkForM(n):\n",
    "    if 2000==n:\n",
    "        return 'm'\n",
    "    if 3000==n:\n",
    "        return 'mmm'\n",
    "def checkForV(n):\n",
    "    if n==4:\n",
    "        return 'iv'\n",
    "    if n==5:\n",
    "        return 'v'\n",
    "    if n==6:\n",
    "        n=1\n",
    "        n='v'+checkForI(n)\n",
    "        return n\n",
    "    if n==7:\n",
    "        n=2\n",
    "        n='v'+checkForI(n)\n",
    "        return n\n",
    "    if n==8:\n",
    "        n=3\n",
    "        n='v'+checkForI(n)\n",
    "        return n\n",
    "\n",
    "def valueToLetter(value):\n",
    "    if 5==value:\n",
    "        return 'v'\n",
    "    if value//10 and value<40:\n",
    "        if value==20:\n",
    "            return 'xx'\n",
    "        if value==30:\n",
    "            return 'xxx'\n",
    "        return 'x'\n",
    "    if 50==value:\n",
    "        return 'l'\n",
    "    if 40==value:\n",
    "        return 'xl'\n",
    "    if 100==value:\n",
    "        return 'c'\n",
    "    if 90==value:\n",
    "        return 'xc'\n",
    "    if 500==value:\n",
    "        return 'd'\n",
    "    if 400==value:\n",
    "        return 'cd'\n",
    "    if 1000==value:\n",
    "        return 'm'\n",
    "    if 900==value:\n",
    "        return 'cm'\n",
    "    \n",
    "def checkForX(n):\n",
    "    if n==9:\n",
    "        return 'ix'\n",
    "    \n",
    "def checkL(n):\n",
    "    a='x'*n\n",
    "    return a\n",
    "def checkForL(n):\n",
    "     if n==60:\n",
    "        n=1\n",
    "        n='l'+checkL(n)\n",
    "        return n\n",
    "     if n==70:\n",
    "        n=2\n",
    "        n='l'+checkL(n)\n",
    "        return n\n",
    "     if n==80:\n",
    "        n=3\n",
    "        n='l'+checkL(n)\n",
    "        return n\n",
    "    \n",
    "def checkD(n):\n",
    "    a='c'*n\n",
    "    return a\n",
    "def checkForD(n):\n",
    "     if n==600:\n",
    "        n=1\n",
    "        n='d'+checkD(n)\n",
    "        return n\n",
    "     if n==700:\n",
    "        n=2\n",
    "        n='d'+checkD(n)\n",
    "        return n\n",
    "     if n==800:\n",
    "        n=3\n",
    "        n='d'+checkD(n)\n",
    "        return n\n",
    "nums='3999'\n",
    "z=''\n",
    "a='0'\n",
    "z1=len(nums)-1\n",
    "for num in nums:\n",
    "    if num=='0':\n",
    "        z1-=1\n",
    "        continue\n",
    "    z=num+z1*a\n",
    "    int_num=int(z)\n",
    "    if int_num<4:\n",
    "        int1=checkForI(int_num)\n",
    "    elif int_num>=4 and int_num<=8:\n",
    "        int1=checkForV(int_num)\n",
    "    elif int_num==9:\n",
    "        int1=checkForX(int_num)\n",
    "    elif int_num>50 and int_num<=80:\n",
    "        int1=checkForL(int_num)\n",
    "    elif int_num>100 and int_num<=300:\n",
    "        int1=checkForC(int_num)\n",
    "    elif int_num>500 and int_num<=800:\n",
    "        int1=checkForD(int_num)\n",
    "    elif int_num>1000 and int_num<=3000:\n",
    "        int1=checkForM(int_num)\n",
    "    else:\n",
    "        int1=valueToLetter(int_num)\n",
    "    z1-=1\n",
    "    print(int1,end='')"
   ]
  },
  {
   "cell_type": "code",
   "execution_count": 57,
   "id": "70164db5-c310-4673-b1f3-0beca10aa186",
   "metadata": {},
   "outputs": [
    {
     "name": "stdout",
     "output_type": "stream",
     "text": [
      "50\n",
      "8\n"
     ]
    }
   ],
   "source": [
    "nums=58\n",
    "# 50+5+3\n",
    "# lviii\n",
    "\n",
    "p=str(nums)\n",
    "z1=len(p)-1\n",
    "z=''\n",
    "a='0'\n",
    "for q in p:\n",
    "    if q=='0':\n",
    "        z1-=1\n",
    "        continue\n",
    "    z=q+z1*a\n",
    "    z1-=1\n",
    "    print(z)"
   ]
  },
  {
   "cell_type": "code",
   "execution_count": 76,
   "id": "7cd0445f-8277-47c0-a1d4-db877a5785a5",
   "metadata": {},
   "outputs": [
    {
     "data": {
      "text/plain": [
       "'iii'"
      ]
     },
     "execution_count": 76,
     "metadata": {},
     "output_type": "execute_result"
    }
   ],
   "source": [
    "def checkForI(n):\n",
    "    a='i'*n\n",
    "    return a\n",
    "checkForI(3)"
   ]
  },
  {
   "cell_type": "code",
   "execution_count": null,
   "id": "bbd6aac6-e407-4beb-971a-379ed682acf4",
   "metadata": {},
   "outputs": [],
   "source": [
    "if "
   ]
  }
 ],
 "metadata": {
  "kernelspec": {
   "display_name": "Python 3 (ipykernel)",
   "language": "python",
   "name": "python3"
  },
  "language_info": {
   "codemirror_mode": {
    "name": "ipython",
    "version": 3
   },
   "file_extension": ".py",
   "mimetype": "text/x-python",
   "name": "python",
   "nbconvert_exporter": "python",
   "pygments_lexer": "ipython3",
   "version": "3.10.8"
  }
 },
 "nbformat": 4,
 "nbformat_minor": 5
}

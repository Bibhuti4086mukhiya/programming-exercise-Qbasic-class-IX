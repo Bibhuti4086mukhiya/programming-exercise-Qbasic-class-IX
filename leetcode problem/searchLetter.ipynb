{
 "cells": [
  {
   "cell_type": "code",
   "execution_count": 2,
   "id": "173cc554-6264-4305-b349-a8ecc870ad23",
   "metadata": {},
   "outputs": [
    {
     "name": "stdout",
     "output_type": "stream",
     "text": [
      "\n",
      "\n",
      "\n",
      "\n",
      "\n",
      "\n",
      "\n",
      "\n",
      "\n",
      "\n"
     ]
    }
   ],
   "source": [
    "strs = [\"flower\",\"flow\"]\n",
    "# output='fl'\n",
    "for str1 in strs:\n",
    "    for i in str1:\n",
    "        print()"
   ]
  },
  {
   "cell_type": "code",
   "execution_count": null,
   "id": "8a83ba81-1a34-499b-a110-d9cae378536c",
   "metadata": {},
   "outputs": [],
   "source": [
    "# input : a, b\n",
    "# out: common part\n",
    "# a= \"flow\", b =\"flower\"\n",
    "# out = \"flow\"\n",
    "# eg2:\n",
    "# a = \"cold\"\n",
    "# b = \"old\"\n",
    "# out =\"\""
   ]
  },
  {
   "cell_type": "code",
   "execution_count": 27,
   "id": "380bd06f-a815-480d-9f25-6f287595ebc4",
   "metadata": {},
   "outputs": [
    {
     "name": "stdout",
     "output_type": "stream",
     "text": [
      "fw\n"
     ]
    }
   ],
   "source": [
    "a= \"flow\"\n",
    "b =\"flower\"\n",
    "d=\"flight\"\n",
    "c=''\n",
    "for i in a:\n",
    "    for j in b:\n",
    "        for k in d:\n",
    "            if i==j==k:\n",
    "                c+=i\n",
    "print(c)\n",
    "    "
   ]
  },
  {
   "cell_type": "code",
   "execution_count": 41,
   "id": "09dc5581-5032-4343-aae5-b69efbc36992",
   "metadata": {},
   "outputs": [
    {
     "name": "stdout",
     "output_type": "stream",
     "text": [
      "old\n"
     ]
    }
   ],
   "source": [
    "a= \"cold\"\n",
    "b =\"old\"\n",
    "\n",
    "c=''\n",
    "for i in a:\n",
    "    for j in b:\n",
    "        if i==j:\n",
    "            c+=i \n",
    "print(c)\n",
    "    "
   ]
  },
  {
   "cell_type": "code",
   "execution_count": 71,
   "id": "a605b89a-45f6-42cf-bd85-c8bb1688c05c",
   "metadata": {},
   "outputs": [
    {
     "data": {
      "text/plain": [
       "'flow'"
      ]
     },
     "execution_count": 71,
     "metadata": {},
     "output_type": "execute_result"
    }
   ],
   "source": [
    "def commonWord(a,b):\n",
    "    output=''\n",
    "    for i in range(len(b)):\n",
    "        if len(a)==i:\n",
    "            break\n",
    "        if a[i]==b[i]:\n",
    "            output+=a[i]\n",
    "        else:\n",
    "            if a[i]!=b[i]:\n",
    "                break\n",
    "    return output\n",
    "commonWord('flow','flower')"
   ]
  },
  {
   "cell_type": "code",
   "execution_count": 90,
   "id": "6752ab07-1088-4798-8be7-d688d2f8efc1",
   "metadata": {},
   "outputs": [],
   "source": [
    "# strs = [\"flower\",\"flow\",\"flight\"]\n",
    "# i=1\n",
    "# for str0 in strs:\n",
    "   \n",
    "#     str1=strs[i]\n",
    "#     i+=1\n",
    "#     k=0\n",
    "#     for j in range(len(str1)):\n",
    "#         if len(str0)==j:\n",
    "#             break\n",
    "#         if str0[j]==str1[k]:\n",
    "#             print(str0[k],end='') \n",
    "#             k+=1"
   ]
  },
  {
   "cell_type": "code",
   "execution_count": 55,
   "id": "1d27f277-ffe1-419e-b948-8d7efe52ff97",
   "metadata": {},
   "outputs": [
    {
     "name": "stdout",
     "output_type": "stream",
     "text": [
      "fl\n"
     ]
    }
   ],
   "source": [
    "strs = [\"flower\",\"flow\",\"flight\"]\n",
    "# strs =  [\"dog\",\"racecar\",\"car\"]\n",
    "\n",
    "a=strs[0]\n",
    "b=strs[1]\n",
    "c=strs[2]\n",
    "output=''\n",
    "for i in range(len(a)):  \n",
    "    if len(a)==i or len(b)==i or len(c)==i:\n",
    "        break\n",
    "    if a[i]==b[i]==c[i]:\n",
    "        output+=a[i]\n",
    "    else:\n",
    "        break\n",
    "if output!='':\n",
    "     print(output)\n",
    "else:\n",
    "    print('There is no common prefix among the input strings.')"
   ]
  },
  {
   "cell_type": "code",
   "execution_count": 1,
   "id": "309a5702-8467-4f2a-99b8-c00fd24c2ef4",
   "metadata": {},
   "outputs": [
    {
     "name": "stdout",
     "output_type": "stream",
     "text": [
      "fl\n"
     ]
    }
   ],
   "source": [
    "def commonWord(a,b):\n",
    "    output=''\n",
    "    for i in range(len(b)):\n",
    "        if len(a)==i:\n",
    "            break\n",
    "        if a[i]==b[i]:\n",
    "            output+=a[i]\n",
    "        else:\n",
    "            break\n",
    "    return output\n",
    "# commonWord('flow','flew')\n",
    "strs = [\"flower\",\"flow\",\"flight\"]\n",
    "pre=strs[0]\n",
    "for i in range(1,len(strs)):\n",
    "    val=strs[i]\n",
    "    pre=commonWord(pre,val)\n",
    "print(pre)"
   ]
  },
  {
   "cell_type": "code",
   "execution_count": 1,
   "id": "ab684f37-ab06-4b91-80b8-692903d04e1d",
   "metadata": {
    "tags": []
   },
   "outputs": [
    {
     "name": "stdout",
     "output_type": "stream",
     "text": [
      "[2, 3, 5, 10, 16]\n"
     ]
    }
   ],
   "source": [
    "def findSmallest(arr): \n",
    "    smallest = arr[0] #Stores the smallest value \n",
    "    smallest_index = 0 #Stores the index of the smallest value\n",
    "    for i in range(1, len(arr)):\n",
    "        if arr[i] < smallest:\n",
    "            smallest = arr[i]\n",
    "            smallest_index = i\n",
    "    return smallest_index\n",
    "\n",
    "\n",
    "def selectionSort(arr): #Sorts an array\n",
    "    newArr = []\n",
    "    for i in range(len(arr)):\n",
    "        smallest = findSmallest(arr)\n",
    "        newArr.append(arr.pop(smallest))\n",
    "    return newArr\n",
    "    \n",
    "print(selectionSort([10, 3, 16, 2, 5]))"
   ]
  },
  {
   "cell_type": "code",
   "execution_count": 9,
   "id": "91f6c950-b9f3-494a-972f-1d9b0d772034",
   "metadata": {},
   "outputs": [],
   "source": [
    "# strs = [\"flower\",\"flow\",\"flight\"]\n",
    "# k=1\n",
    "# output=''\n",
    "# for str in strs:\n",
    "#     for i in range(len(str)):\n",
    "#         if len(str)==i or len(strs[k])==i:\n",
    "#             break\n",
    "#         if str[i]==strs[k][i]:\n",
    "#             output+=str[i]\n",
    "#         else:\n",
    "#             break\n",
    "#     k+=1\n",
    "# print(output)"
   ]
  }
 ],
 "metadata": {
  "kernelspec": {
   "display_name": "Python 3 (ipykernel)",
   "language": "python",
   "name": "python3"
  },
  "language_info": {
   "codemirror_mode": {
    "name": "ipython",
    "version": 3
   },
   "file_extension": ".py",
   "mimetype": "text/x-python",
   "name": "python",
   "nbconvert_exporter": "python",
   "pygments_lexer": "ipython3",
   "version": "3.9.12"
  }
 },
 "nbformat": 4,
 "nbformat_minor": 5
}

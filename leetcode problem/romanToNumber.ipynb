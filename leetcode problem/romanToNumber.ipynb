{
 "cells": [
  {
   "cell_type": "code",
   "execution_count": 1,
   "id": "ed4246e4-b164-477f-8c02-023124acc2ee",
   "metadata": {},
   "outputs": [],
   "source": [
    "roman=['i','ii','iii','iv','v']\n",
    "number=[1,2,3,4,5]\n",
    "dist1={roman:='i','ii','iii','iv','v',number:=1,2,3,4,5}"
   ]
  },
  {
   "cell_type": "code",
   "execution_count": 2,
   "id": "0608f3b1-9045-4792-bab3-2ef8045244d1",
   "metadata": {},
   "outputs": [],
   "source": [
    "# import pandas \n",
    "# dist1={roman:='i','ii','iii','iv','v',number:=1,2,3,4,5}\n",
    "# dist2=pandas\n",
    "# dist2.keys()"
   ]
  },
  {
   "cell_type": "code",
   "execution_count": 3,
   "id": "abdc2000-1009-495c-9c41-bd983c26fc65",
   "metadata": {},
   "outputs": [
    {
     "data": {
      "text/plain": [
       "['ii']"
      ]
     },
     "execution_count": 3,
     "metadata": {},
     "output_type": "execute_result"
    }
   ],
   "source": [
    "number=[['i','ii','iii','iv','v']]\n",
    "def searchNumber(regex):\n",
    "    numlists=number\n",
    "    for numlist in numlists:\n",
    "        # for i in enumerate(numlist):\n",
    "        content=str(numlist)\n",
    "        import re\n",
    "        matches = re.finditer(regex, content)\n",
    "        found=[]\n",
    "        for j,match in enumerate(matches):\n",
    "                found.append(match.group())\n",
    "                break\n",
    "        return found\n",
    "searchNumber('ii')"
   ]
  },
  {
   "cell_type": "code",
   "execution_count": 4,
   "id": "09681283-2952-4eb2-95f1-752d467d7868",
   "metadata": {},
   "outputs": [
    {
     "ename": "SyntaxError",
     "evalue": "cannot assign to literal (190258303.py, line 1)",
     "output_type": "error",
     "traceback": [
      "\u001b[1;36m  Cell \u001b[1;32mIn [4], line 1\u001b[1;36m\u001b[0m\n\u001b[1;33m    lxvi=66=50+10+5+1\u001b[0m\n\u001b[1;37m         ^\u001b[0m\n\u001b[1;31mSyntaxError\u001b[0m\u001b[1;31m:\u001b[0m cannot assign to literal\n"
     ]
    }
   ],
   "source": [
    "lxvi=66=50+10+5+1\n",
    "lxiv=64"
   ]
  },
  {
   "cell_type": "code",
   "execution_count": null,
   "id": "ba9d0e43-b30a-4de4-8efe-df77c6a5dbfa",
   "metadata": {},
   "outputs": [],
   "source": [
    "roman='' \n",
    "sumList=0\n",
    "for k in range(len(roman)):\n",
    "    i='i'\n",
    "    x='x'\n",
    "    l='l'\n",
    "    c='c'\n",
    "    d='d'\n",
    "    m='m'\n",
    "    a=roman[k]\n",
    "    if 'v'==a:\n",
    "        sumList+=5\n",
    "    if i==a:\n",
    "        i=1\n",
    "        sumList+=i\n",
    "    if x==a:\n",
    "        x=10\n",
    "        sumList+=x\n",
    "    if l==a:\n",
    "        l=50\n",
    "        sumList+=l\n",
    "    if c==a:\n",
    "        c=100\n",
    "        sumList+=c\n",
    "    if d==a:\n",
    "        d=500\n",
    "        sumList+=d\n",
    "    if m==a:\n",
    "        m=1000\n",
    "        sumList+=m\n",
    "print(sumList)\n",
    "\n",
    "# print(type(int('10')))\n",
    "# print(type(str(10)))\n",
    "# print(a,type(a),int(i))"
   ]
  },
  {
   "cell_type": "code",
   "execution_count": 55,
   "id": "6e88eebe-74e5-4b57-9057-07c3bf69037d",
   "metadata": {},
   "outputs": [],
   "source": [
    "# def romanToValue(roman:str):\n",
    "#     total=0\n",
    "#     for k in range(len(roman)):\n",
    "#         a=roman[k]\n",
    "#         total+=letterToValue(a)\n",
    "#     return total\n",
    "# romanToValue('xiv')"
   ]
  },
  {
   "cell_type": "code",
   "execution_count": 60,
   "id": "ba354b23-2f36-41e5-b5c9-4a7bcc7b41e5",
   "metadata": {},
   "outputs": [
    {
     "data": {
      "text/plain": [
       "1000"
      ]
     },
     "execution_count": 60,
     "metadata": {},
     "output_type": "execute_result"
    }
   ],
   "source": [
    "def letterToValue(letter:str):\n",
    "    letter=letter.lower()   \n",
    "    if 'i'==letter: \n",
    "        return 1\n",
    "    if 'v'==letter:\n",
    "        return 5\n",
    "    if 'x'==letter:\n",
    "        return 10\n",
    "    if 'l'==letter:\n",
    "        return 50\n",
    "    if 'c'==letter:\n",
    "        return 100\n",
    "    if 'd'==letter:\n",
    "        return 500\n",
    "    if 'm'==letter:\n",
    "        return 1000\n",
    "letterToValue('M')"
   ]
  },
  {
   "cell_type": "code",
   "execution_count": 63,
   "id": "ec61e2ad-01f6-4a7c-98d3-1666b627e1fa",
   "metadata": {
    "tags": []
   },
   "outputs": [
    {
     "data": {
      "text/plain": [
       "1996"
      ]
     },
     "execution_count": 63,
     "metadata": {},
     "output_type": "execute_result"
    }
   ],
   "source": [
    "def letterToValue(letter:str):\n",
    "    letter=letter.lower()   \n",
    "    if 'i'==letter: \n",
    "        return 1\n",
    "    if 'v'==letter:\n",
    "        return 5\n",
    "    if 'x'==letter:\n",
    "        return 10\n",
    "    if 'l'==letter:\n",
    "        return 50\n",
    "    if 'c'==letter:\n",
    "        return 100\n",
    "    if 'd'==letter:\n",
    "        return 500\n",
    "    if 'm'==letter:\n",
    "        return 1000\n",
    "    \n",
    "def checkForX(nx):   \n",
    "    if nx=='l':\n",
    "        return 40,2\n",
    "    if nx=='c':\n",
    "        return 90,2\n",
    "    return 10,1\n",
    "\n",
    "def checkForI(ni):   \n",
    "    if ni=='v':\n",
    "        return 4,2\n",
    "    if ni=='x':\n",
    "        return 9,2\n",
    "    return 1,1\n",
    "\n",
    "def checkForC(nc):   \n",
    "    if nc=='d':\n",
    "        return 400,2\n",
    "    if nc=='m':\n",
    "        return 900,2\n",
    "    return 100,1 \n",
    "\n",
    "def romanToValue(roman:str):\n",
    "    total=0\n",
    "    check=''\n",
    "    index=0\n",
    "    while index<len(letter):\n",
    "        check=letter[index]\n",
    "        ei=1\n",
    "        val=letterToValue(check)\n",
    "        if check=='x':\n",
    "            if index+1<len(letter):\n",
    "                val,ei=checkForX(letter[index+1])\n",
    "            else:\n",
    "                val,ei=checkForX(None)\n",
    "        if check=='i':\n",
    "            if index+1<len(letter):\n",
    "                val,ei=checkForI(letter[index+1])\n",
    "            else:\n",
    "                val,ei=checkForI(None)\n",
    "        if check=='c':\n",
    "            if index+1<len(letter):\n",
    "                val,ei=checkForC(letter[index+1])\n",
    "            else:\n",
    "                val,ei=checkForC(None)\n",
    "        index+=ei\n",
    "        total+=val\n",
    "    return total\n",
    "romanToValue('ccc')"
   ]
  },
  {
   "cell_type": "code",
   "execution_count": 15,
   "id": "60ba5b81-e732-4a01-b1a3-a44441b60c1a",
   "metadata": {},
   "outputs": [
    {
     "name": "stdout",
     "output_type": "stream",
     "text": [
      "4\n"
     ]
    }
   ],
   "source": [
    "letter='xxiv'\n",
    "total=0\n",
    "for i in range(1):\n",
    "    for j in range(len(letter)):\n",
    "        if 'v'!=letter[j]:\n",
    "            check=''\n",
    "        if 'i'==letter[j] or 'v'==letter[j]:\n",
    "            check+=letter[j]\n",
    "            if 'iv'==check:\n",
    "                total+=4\n",
    "        else:\n",
    "            if 'i'==check:\n",
    "                total+=1\n",
    "            if 'v'==check:\n",
    "                total+=5\n",
    "                \n",
    "        if 'x'!=letter[j]:\n",
    "            check=''\n",
    "        if 'i'==letter[j] or 'x'==letter[j]:\n",
    "            check+=letter[j]\n",
    "            if 'ix'==check:\n",
    "                total+=9\n",
    "        else:\n",
    "            if 'i'==check:\n",
    "                total+=1\n",
    "            if 'x'==check:\n",
    "                total+=10\n",
    "print(total)"
   ]
  },
  {
   "cell_type": "code",
   "execution_count": 5,
   "id": "11c142a4-a2f9-40d7-b335-bceebc376bd8",
   "metadata": {
    "tags": []
   },
   "outputs": [
    {
     "name": "stdout",
     "output_type": "stream",
     "text": [
      "14\n"
     ]
    }
   ],
   "source": [
    "letter='xiv'\n",
    "total=0\n",
    "for i in range(1):\n",
    "    check=''\n",
    "for j in range(len(letter)):\n",
    "    if 'x'==letter[j]:\n",
    "        total+=10\n",
    "        # return 10\n",
    "    if 'v'!=letter[j]:\n",
    "        check=''\n",
    "    if 'i'==letter[j] or 'v'==letter[j]:\n",
    "        check+=letter[j]\n",
    "        if 'iv'==check:\n",
    "            total+=0\n",
    "            # print('4')\n",
    "        elif 'i'==check:\n",
    "            total+=1\n",
    "            # print('1')\n",
    "        elif 'v'==check:\n",
    "            total+=5\n",
    "            # print('5')\n",
    "    \n",
    "print(total)\n",
    "# i=1\n",
    "# iv=4\n",
    "# v=5"
   ]
  },
  {
   "cell_type": "code",
   "execution_count": 84,
   "id": "4178c4a5-319c-4b00-8f54-91a4604734dd",
   "metadata": {},
   "outputs": [
    {
     "name": "stdout",
     "output_type": "stream",
     "text": [
      "\n",
      "\n",
      "\n",
      "\n",
      "\n",
      "\n",
      "\n",
      "\n"
     ]
    }
   ],
   "source": [
    "word='babc'\n",
    "for i in range(1):\n",
    "    check=''\n",
    "    for j in range(len(word)):\n",
    "        if 'c'!=word[j]:\n",
    "            check=''\n",
    "        if 'b'==word[j] or 'c'==word[j]:\n",
    "            check+=word[j]\n",
    "            if 'bc'==check:\n",
    "                print(check)\n",
    "    # break\n",
    "    print()\n",
    "\n",
    "# 1777\n",
    "# 1000 700 70 7\n",
    "# mdcclxxvii\n",
    "# MDCCLXXVII "
   ]
  },
  {
   "cell_type": "code",
   "execution_count": 23,
   "id": "4824faa0-a9f0-4226-ac99-cde7ac78ce67",
   "metadata": {},
   "outputs": [],
   "source": [
    "# list1=[1,10,2,3,4]\n",
    "# # find greater and smallest number from list1\n",
    "# list2=[]\n",
    "# for i in range(len(list1)):\n",
    "#     for j in range(len(list1)):\n",
    "#             print(list1[i],list1[j])\n",
    "#     print()"
   ]
  },
  {
   "cell_type": "code",
   "execution_count": 4,
   "id": "2aa3560a-eb47-4748-bc15-742489903c9c",
   "metadata": {},
   "outputs": [
    {
     "name": "stdout",
     "output_type": "stream",
     "text": [
      "xx\n",
      "xi\n"
     ]
    },
    {
     "data": {
      "text/plain": [
       "9"
      ]
     },
     "execution_count": 4,
     "metadata": {},
     "output_type": "execute_result"
    }
   ],
   "source": [
    "# def greaterSmaller(letter:str):\n",
    "    \n",
    "    \n",
    "# greaterSmaller('xiv')\n",
    "\n",
    "  # for i in range(len(letter)):\n",
    "  #       for j in range(len(letter)):\n",
    "  #           print(letter[i]+letter[j])\n",
    "  #           if 'iv'==letter[i]+letter[j]:\n",
    "  #               return 4\n",
    "  #           if 'xi'==letter[i]+letter[j]:\n",
    "  #               return 9\n",
    "  #       print()\n",
    "# I can be placed before V (5) and X (10) to make 4 and 9. \n",
    "# X can be placed before L (50) and C (100) to make 40 and 90. \n",
    "# C can be placed before D (500) and M (1000) to make 400 and 900.\n",
    "\n"
   ]
  },
  {
   "cell_type": "code",
   "execution_count": 57,
   "id": "98079685-465d-4722-bf61-dff6b3c35639",
   "metadata": {},
   "outputs": [],
   "source": [
    "# 1996\n",
    "# 1000+900+90+6\n",
    "# 1000+1000-100+100-10+(5+1)\n",
    "# m+m-c+c-x+(v+i)\n",
    "# mcmxcvi"
   ]
  },
  {
   "cell_type": "code",
   "execution_count": 28,
   "id": "91a19c4f-256a-49c6-b262-a4585e732b02",
   "metadata": {},
   "outputs": [],
   "source": [
    "# 970\n",
    "# 900 +70\n",
    "# cm+lxx\n",
    "cmlxx\n",
    "\n",
    "1999\n",
    "1000 1000-100 100-10 10-1\n",
    "mcmxcix\n",
    "\n",
    "737 \n",
    "700 30 7"
   ]
  },
  {
   "cell_type": "code",
   "execution_count": 26,
   "id": "b62e7273-c406-437d-85da-0679a3acb795",
   "metadata": {},
   "outputs": [
    {
     "data": {
      "text/plain": [
       "1946"
      ]
     },
     "execution_count": 26,
     "metadata": {},
     "output_type": "execute_result"
    }
   ],
   "source": [
    "# mcmxlvi \n",
    "1000+900+40+6\n",
    "m+1000-100+L-x +v+i\n",
    "mcmxlvi"
   ]
  },
  {
   "cell_type": "code",
   "execution_count": null,
   "id": "817d1629-1cec-41ef-adaf-6a793697c046",
   "metadata": {},
   "outputs": [],
   "source": [
    "a='l'\n",
    "a+='k'\n",
    "print(a)"
   ]
  },
  {
   "cell_type": "code",
   "execution_count": 67,
   "id": "e9be874e-8068-4599-a2ed-56288c25c71c",
   "metadata": {},
   "outputs": [
    {
     "data": {
      "text/plain": [
       "1999"
      ]
     },
     "execution_count": 67,
     "metadata": {},
     "output_type": "execute_result"
    }
   ],
   "source": [
    "def letterToValue(letter:str):\n",
    "    letter=letter.lower()   \n",
    "    if 'i'==letter: \n",
    "        return 1\n",
    "    if 'v'==letter:\n",
    "        return 5\n",
    "    if 'x'==letter:\n",
    "        return 10\n",
    "    if 'l'==letter:\n",
    "        return 50\n",
    "    if 'c'==letter:\n",
    "        return 100\n",
    "    if 'd'==letter:\n",
    "        return 500\n",
    "    if 'm'==letter:\n",
    "        return 1000\n",
    "    \n",
    "def checkForX(nx):   \n",
    "    if nx=='l':\n",
    "        return 40,2\n",
    "    if nx=='c':\n",
    "        return 90,2\n",
    "    return 10,1\n",
    "\n",
    "def checkForI(ni):   \n",
    "    if ni=='v':\n",
    "        return 4,2\n",
    "    if ni=='x':\n",
    "        return 9,2\n",
    "    return 1,1\n",
    "\n",
    "def checkForC(nc):   \n",
    "    if nc=='d':\n",
    "        return 400,2\n",
    "    if nc=='m':\n",
    "        return 900,2\n",
    "    return 100,1 \n",
    "\n",
    "def romanToValue(letter:str):\n",
    "    total=0\n",
    "    check=''\n",
    "    index=0\n",
    "    while index<len(letter):\n",
    "        check=letter[index]\n",
    "        ei=1\n",
    "        val=letterToValue(check)\n",
    "        if check=='x':\n",
    "            if index+1<len(letter):\n",
    "                val,ei=checkForX(letter[index+1])\n",
    "            else:\n",
    "                val,ei=checkForX(None)\n",
    "        if check=='i':\n",
    "            if index+1<len(letter):\n",
    "                val,ei=checkForI(letter[index+1])\n",
    "            else:\n",
    "                val,ei=checkForI(None)\n",
    "        if check=='c':\n",
    "            if index+1<len(letter):\n",
    "                val,ei=checkForC(letter[index+1])\n",
    "            else:\n",
    "                val,ei=checkForC(None)\n",
    "        index+=ei\n",
    "        total+=val\n",
    "    return total\n",
    "romanToValue('mcmxcix')\n"
   ]
  }
 ],
 "metadata": {
  "kernelspec": {
   "display_name": "Python 3 (ipykernel)",
   "language": "python",
   "name": "python3"
  },
  "language_info": {
   "codemirror_mode": {
    "name": "ipython",
    "version": 3
   },
   "file_extension": ".py",
   "mimetype": "text/x-python",
   "name": "python",
   "nbconvert_exporter": "python",
   "pygments_lexer": "ipython3",
   "version": "3.10.8"
  }
 },
 "nbformat": 4,
 "nbformat_minor": 5
}

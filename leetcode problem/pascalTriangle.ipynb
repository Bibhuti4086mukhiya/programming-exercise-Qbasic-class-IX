{
 "cells": [
  {
   "cell_type": "code",
   "execution_count": 35,
   "id": "726621d4-6e4d-4da0-84ce-9f60c4244ee0",
   "metadata": {},
   "outputs": [
    {
     "name": "stdout",
     "output_type": "stream",
     "text": [
      "1\n",
      "11\n",
      "121\n",
      "1331\n",
      "14641\n",
      "161051\n"
     ]
    }
   ],
   "source": [
    "def pascalTriangle(num):\n",
    "    for i in range(num):\n",
    "        for j in range(k):\n",
    "            print('',end='')\n",
    "            if j==1:\n",
    "                print(11**i,end='')\n",
    "        print()\n",
    "pascalTriangle(6)"
   ]
  },
  {
   "cell_type": "code",
   "execution_count": 29,
   "id": "bb06a64a-35c2-4066-9258-3aaefac661aa",
   "metadata": {},
   "outputs": [
    {
     "name": "stdout",
     "output_type": "stream",
     "text": [
      ".....11 "
     ]
    }
   ],
   "source": [
    "# for j in range(5,0,-1):\n",
    "#             print('.',end='')\n",
    "#             if j==1:\n",
    "#                 print(11,end=' ')"
   ]
  },
  {
   "cell_type": "code",
   "execution_count": null,
   "id": "abec6e2d-bec2-4344-a9fb-67e14b9eb0b4",
   "metadata": {},
   "outputs": [],
   "source": [
    "list1=[1,4,6,4,1]\n",
    "output=[1,5,10,10,5,1]"
   ]
  },
  {
   "cell_type": "code",
   "execution_count": 4,
   "id": "fd61ac26-e2b0-41d6-8cf3-0255ef500103",
   "metadata": {},
   "outputs": [],
   "source": [
    "list1=[1,1]\n",
    "def series(list1):\n",
    "        output=[]\n",
    "        i=0\n",
    "        for j in range(1,len(list1)):\n",
    "            output.append(list1[i]+list1[j])\n",
    "            i+=1\n",
    "        output=[1]+output+[1]\n",
    "        return output"
   ]
  },
  {
   "cell_type": "code",
   "execution_count": 125,
   "id": "861e2d2e-b5e8-470c-8ece-b19e7a1a28e0",
   "metadata": {},
   "outputs": [],
   "source": [
    "# list1=[1]\n",
    "# for i in range(5):\n",
    "#     print(list1)\n",
    "#     list1=series(list1)"
   ]
  },
  {
   "cell_type": "code",
   "execution_count": 2,
   "id": "473a54aa-6907-4232-b184-d71f1e25541a",
   "metadata": {},
   "outputs": [
    {
     "data": {
      "text/plain": [
       "' 123'"
      ]
     },
     "execution_count": 2,
     "metadata": {},
     "output_type": "execute_result"
    }
   ],
   "source": [
    "# def convertToStr(list1):\n",
    "#     liststr=''\n",
    "#     for j in range(len(list1)):\n",
    "#             liststr+=str(list1[j])\n",
    "#     return liststr\n",
    "# convertToStr([1,2,3])"
   ]
  },
  {
   "cell_type": "code",
   "execution_count": null,
   "id": "50ca882a-2746-4c97-9063-9fd84e076e1b",
   "metadata": {},
   "outputs": [],
   "source": []
  },
  {
   "cell_type": "code",
   "execution_count": 51,
   "id": "3181a599-adc6-4777-919f-005318d9a18c",
   "metadata": {},
   "outputs": [
    {
     "name": "stdout",
     "output_type": "stream",
     "text": [
      "                    1 \n",
      "                   1 1 \n",
      "                  1 2 1 \n",
      "                 1 3 3 1 \n",
      "                1 4 6 4 1 \n",
      "               1 5 10 10 5 1 \n",
      "              1 6 15 20 15 6 1 \n",
      "             1 7 21 35 35 21 7 1 \n",
      "            1 8 28 56 70 56 28 8 1 \n",
      "           1 9 36 84 126 126 84 36 9 1 \n",
      "          1 10 45 120 210 252 210 120 45 10 1 \n",
      "         1 11 55 165 330 462 462 330 165 55 11 1 \n",
      "        1 12 66 220 495 792 924 792 495 220 66 12 1 \n",
      "       1 13 78 286 715 1287 1716 1716 1287 715 286 78 13 1 \n",
      "      1 14 91 364 1001 2002 3003 3432 3003 2002 1001 364 91 14 1 \n",
      "     1 15 105 455 1365 3003 5005 6435 6435 5005 3003 1365 455 105 15 1 \n",
      "    1 16 120 560 1820 4368 8008 11440 12870 11440 8008 4368 1820 560 120 16 1 \n",
      "   1 17 136 680 2380 6188 12376 19448 24310 24310 19448 12376 6188 2380 680 136 17 1 \n",
      "  1 18 153 816 3060 8568 18564 31824 43758 48620 43758 31824 18564 8568 3060 816 153 18 1 \n",
      " 1 19 171 969 3876 11628 27132 50388 75582 92378 92378 75582 50388 27132 11628 3876 969 171 19 1 \n"
     ]
    }
   ],
   "source": [
    "def series(list1):\n",
    "        output=[]\n",
    "        i=0\n",
    "        for j in range(1,len(list1)):\n",
    "            output.append(list1[i]+list1[j])\n",
    "            i+=1\n",
    "        output=[1]+output+[1]\n",
    "        return output\n",
    "    \n",
    "def NumberOfRow(num):\n",
    "    list1=[1]\n",
    "    for i in range(num):\n",
    "        print(' '*num,end='')\n",
    "        num-=1\n",
    "        for j in range(len(list1)):\n",
    "            print(list1[j],end=' ')\n",
    "        list1=series(list1)\n",
    "        print()\n",
    "NumberOfRow(20)"
   ]
  }
 ],
 "metadata": {
  "kernelspec": {
   "display_name": "Python 3 (ipykernel)",
   "language": "python",
   "name": "python3"
  },
  "language_info": {
   "codemirror_mode": {
    "name": "ipython",
    "version": 3
   },
   "file_extension": ".py",
   "mimetype": "text/x-python",
   "name": "python",
   "nbconvert_exporter": "python",
   "pygments_lexer": "ipython3",
   "version": "3.10.8"
  }
 },
 "nbformat": 4,
 "nbformat_minor": 5
}

{
 "cells": [
  {
   "cell_type": "code",
   "execution_count": null,
   "id": "74f49953-5dd5-4565-a566-73b6e09cb8e8",
   "metadata": {},
   "outputs": [],
   "source": [
    " # WRITE A PROGRAM TO INPUT THREE DIFFERENT NUMBERS AND PRINT THEIR SUM AND PRODUCT"
   ]
  },
  {
   "cell_type": "code",
   "execution_count": 6,
   "id": "8631902f-66cd-40e0-b208-4c78b71fbd89",
   "metadata": {},
   "outputs": [
    {
     "name": "stdout",
     "output_type": "stream",
     "text": [
      "6\n"
     ]
    }
   ],
   "source": [
    "def sumNumber(a,b,c):\n",
    "    add=a+b+c\n",
    "    product=a*b*c\n",
    "    return add,product\n",
    "p,q=sumNumber(1,2,3)\n",
    "print(q)"
   ]
  },
  {
   "cell_type": "code",
   "execution_count": null,
   "id": "f60f957a-e799-4887-925a-8d71c69ebd8d",
   "metadata": {},
   "outputs": [],
   "source": [
    " # WRITE A PROGRAM TO INPUT THE LENGTH AND PRINT THE PERIMETER OF A SQUARE"
   ]
  },
  {
   "cell_type": "code",
   "execution_count": 7,
   "id": "b1a8f95f-0e47-433b-a001-0b578d94f4ce",
   "metadata": {},
   "outputs": [
    {
     "data": {
      "text/plain": [
       "16"
      ]
     },
     "execution_count": 7,
     "metadata": {},
     "output_type": "execute_result"
    }
   ],
   "source": [
    "def perimeterOfSquare(length):\n",
    "    p=4*length\n",
    "    return p\n",
    "perimeterOfSquare(4)"
   ]
  },
  {
   "cell_type": "code",
   "execution_count": null,
   "id": "f60c0360-0411-4ef2-a3f3-a298fb701e01",
   "metadata": {},
   "outputs": [],
   "source": [
    "# 3. WRITE A PROGRAM TO INPNUT NEPALI CURRENCY AND CONVERT IT INTO INDIAN CURRENCY."
   ]
  },
  {
   "cell_type": "code",
   "execution_count": 9,
   "id": "79c9dcf3-c54a-4b48-bf72-4cdff36749a7",
   "metadata": {},
   "outputs": [
    {
     "data": {
      "text/plain": [
       "8.0"
      ]
     },
     "execution_count": 9,
     "metadata": {},
     "output_type": "execute_result"
    }
   ],
   "source": [
    "def currency(money):\n",
    "    nepaliMoney=money*1.6\n",
    "    return nepaliMoney\n",
    "currency(5)"
   ]
  },
  {
   "cell_type": "code",
   "execution_count": null,
   "id": "5fe9bc5a-aff1-4c54-a73e-c1367016ad0f",
   "metadata": {},
   "outputs": [],
   "source": [
    "# 4. WRITE A PROGRAM TO ENTER A NUMBER AND CHECK WHETHER TH NUMBER IS PALINDROME OR NOT."
   ]
  },
  {
   "cell_type": "code",
   "execution_count": 2,
   "id": "0a34a112-d36d-423d-a7b9-845cb2b2a74e",
   "metadata": {},
   "outputs": [
    {
     "data": {
      "text/plain": [
       "False"
      ]
     },
     "execution_count": 2,
     "metadata": {},
     "output_type": "execute_result"
    }
   ],
   "source": [
    "def givenMelastNumber(number):\n",
    "    remain=number//10\n",
    "    return remain,number%10\n",
    "\n",
    "\n",
    "def palindromeOrNot(number):\n",
    "    res=0\n",
    "    ori_num = number\n",
    "    \n",
    "    while True:\n",
    "        remain,remainder=givenMelastNumber(number)\n",
    "        if res==0:\n",
    "            res=remainder\n",
    "        else:\n",
    "            res=res*10+remainder  \n",
    "        number=remain\n",
    "        if remain==0:\n",
    "            if res==ori_num:\n",
    "                return True\n",
    "            else:\n",
    "                   return False\n",
    "            break\n",
    "    \n",
    "palindromeOrNot(123)"
   ]
  },
  {
   "cell_type": "code",
   "execution_count": 33,
   "id": "8fa707fb-fc43-48ac-9872-54f610cd8885",
   "metadata": {},
   "outputs": [],
   "source": [
    "# 5. WRITE A PROGRAM TO INPUT A NUMBER AND CHECK WHETHER THE NUMBER IS ARMSTRONG OR NOT."
   ]
  },
  {
   "cell_type": "code",
   "execution_count": 4,
   "id": "0c79ef4c-6ea5-403c-a4bd-35e333ccf70f",
   "metadata": {},
   "outputs": [
    {
     "data": {
      "text/plain": [
       "False"
      ]
     },
     "execution_count": 4,
     "metadata": {},
     "output_type": "execute_result"
    }
   ],
   "source": [
    "\n",
    "\n",
    "def givenMelastNumber(num):\n",
    "    remain=num//10\n",
    "    return remain,num%10\n",
    "\n",
    "def count_Func(num):\n",
    "        i=0\n",
    "        while (num>0):\n",
    "            num=num//10\n",
    "            i=i+1\n",
    "        return i\n",
    "    \n",
    "def armstrongOrNot(num):\n",
    "    \n",
    "    count= count_Func(num)\n",
    "    ori_num=num\n",
    "    res=0\n",
    "    while True:\n",
    "        remain,remainder = givenMelastNumber(num)\n",
    "        root=remainder**count\n",
    "        # print(root)\n",
    "        res=res+root\n",
    "        num=remain\n",
    "        if remain==0:\n",
    "            if res==ori_num:\n",
    "                return True\n",
    "            else:\n",
    "                return False\n",
    "            break\n",
    "        \n",
    "armstrongOrNot(222)"
   ]
  },
  {
   "cell_type": "code",
   "execution_count": null,
   "id": "b5518e79-d79d-40ea-9060-c01a65d8f0ef",
   "metadata": {},
   "outputs": [],
   "source": [
    "# 7. WRITE A PROGRAM TO CHECK WHETHER AN INPUT NUMBER IS PRIME OR COMPOSITE."
   ]
  },
  {
   "cell_type": "code",
   "execution_count": 95,
   "id": "9cf0e73c-763f-4fbe-a9f4-7d001b59212e",
   "metadata": {},
   "outputs": [
    {
     "name": "stdout",
     "output_type": "stream",
     "text": [
      "True\n"
     ]
    }
   ],
   "source": [
    "\n",
    "def compositeOrNot(num):\n",
    "    for i in range(1,num):\n",
    "        is_composite=False\n",
    "        if num%2==0:\n",
    "            is_composite=True\n",
    "            return True\n",
    "            \n",
    "    if not is_composite:\n",
    "        return False\n",
    "\n",
    "compositeOrNot(8)"
   ]
  },
  {
   "cell_type": "code",
   "execution_count": null,
   "id": "2fba81db-ac29-44b8-b55a-1fd42d6c91ca",
   "metadata": {},
   "outputs": [],
   "source": [
    "# WRITE A PROGRAM TO DISPLAY \"SWARNIM PUBLICATION PVT LTD\" 10 TIMES USING WHILE....W END"
   ]
  },
  {
   "cell_type": "code",
   "execution_count": 5,
   "id": "b41c159c-a947-413c-b696-7e82ef3d93fe",
   "metadata": {},
   "outputs": [
    {
     "name": "stdout",
     "output_type": "stream",
     "text": [
      "SWARNIM\n",
      "SWARNIM\n",
      "SWARNIM\n",
      "SWARNIM\n",
      "SWARNIM\n"
     ]
    }
   ],
   "source": [
    "def whileLoop(num):\n",
    "    i=0\n",
    "    while i<num:\n",
    "        print('SWARNIM')\n",
    "        i+=1        \n",
    "whileLoop(5)"
   ]
  },
  {
   "cell_type": "code",
   "execution_count": null,
   "id": "4ccbe5c4-9520-4e45-ad83-cd3b99cdde45",
   "metadata": {},
   "outputs": [],
   "source": [
    "# WRITE A PROGRAM TO FIND OUT FACTORIAL OF A GIVEN NUMBER USING FOR... NEXT"
   ]
  },
  {
   "cell_type": "code",
   "execution_count": 11,
   "id": "f2755d63-6e4c-4f71-9921-75172727c6d4",
   "metadata": {},
   "outputs": [
    {
     "data": {
      "text/plain": [
       "120"
      ]
     },
     "execution_count": 11,
     "metadata": {},
     "output_type": "execute_result"
    }
   ],
   "source": [
    "def factorial(num):\n",
    "    f=1\n",
    "    for i in range(1,num+1):\n",
    "        f=f*i\n",
    "    return f\n",
    "    \n",
    "factorial(5)"
   ]
  },
  {
   "cell_type": "code",
   "execution_count": null,
   "id": "8a633107-3ca2-4ab5-9812-d8ce559c1f63",
   "metadata": {},
   "outputs": [],
   "source": [
    "# 11. WRITE A PROGRAM TO INPUT MARKS OF ALL YOUR SUBJECTS AND PRINT TOTAL, PERCENTAGE, RESULT AND DIVISION"
   ]
  },
  {
   "cell_type": "code",
   "execution_count": 55,
   "id": "ca758a44-9215-4f8d-a41e-858935fab50d",
   "metadata": {},
   "outputs": [
    {
     "name": "stdout",
     "output_type": "stream",
     "text": [
      "subject A 80\n",
      "subject B 60\n",
      "subject C 6\n",
      "subject D 67\n",
      "Total mark is: 213\n",
      "Percentage is : 53.25\n",
      "fail\n",
      "third division\n"
     ]
    }
   ],
   "source": [
    "\n",
    "a=int(input('subject A'))\n",
    "b=int(input('subject B'))\n",
    "c=int(input('subject C'))\n",
    "d=int(input('subject D'))\n",
    "def totalMark(a,b,c,d):\n",
    "    total=a+b+c+d\n",
    "    return total\n",
    "\n",
    "def percentage(totalMark):\n",
    "    totalGetMark=totalMark(a,b,c,d)\n",
    "    fullMark=400\n",
    "    percentage =(totalGetMark/fullMark)*100\n",
    "    return percentage\n",
    "\n",
    "def passOrFail(a,b,c,d):\n",
    "    if a>=40 and b>=40 and c>=40 and d>=40:\n",
    "        print(\"pass\")\n",
    "    else:\n",
    "        print(\"fail\")\n",
    "def division(percentage):\n",
    "    percentage = percentage(totalMark)\n",
    "    if percentage>=70:\n",
    "        print('first division')\n",
    "    elif percentage>=60:\n",
    "        print('second divison')\n",
    "    elif percentage>=40:\n",
    "        print('third division')\n",
    "    else:\n",
    "        print(\"fail division\")\n",
    "        \n",
    "\n",
    "print(\"Total mark is:\",totalMark(a,b,c,d))\n",
    "print(\"Percentage is :\",percentage(totalMark))\n",
    "passOrFail(a,b,c,d)\n",
    "division(percentage)\n"
   ]
  },
  {
   "cell_type": "code",
   "execution_count": null,
   "id": "524a7bc0-f93e-47f8-baf6-fe89d7a2d7f8",
   "metadata": {},
   "outputs": [],
   "source": [
    "# 12. WRITE A PROGRAM TO FIND THE AREA OF A CUBE. [HINT: A=6L2]"
   ]
  },
  {
   "cell_type": "code",
   "execution_count": 57,
   "id": "2e2bb649-c8fb-440f-886f-e7b2e07a2d4e",
   "metadata": {},
   "outputs": [
    {
     "data": {
      "text/plain": [
       "120"
      ]
     },
     "execution_count": 57,
     "metadata": {},
     "output_type": "execute_result"
    }
   ],
   "source": [
    "def areaOfCube(length):\n",
    "    area=6*length*2\n",
    "    return area\n",
    "\n",
    "areaOfCube(10)"
   ]
  },
  {
   "cell_type": "code",
   "execution_count": null,
   "id": "681a9212-f23d-4924-b39d-60cd6d0c4f60",
   "metadata": {},
   "outputs": [],
   "source": [
    "# 14. WRITE A PROGRAM TO FIND THE TOTAL SURFACE AREA OF A CYLINDER.[A=2πR(R+H)]"
   ]
  },
  {
   "cell_type": "code",
   "execution_count": 61,
   "id": "b2e7216d-0da6-4eb7-90f9-f5a41eb32381",
   "metadata": {},
   "outputs": [
    {
     "data": {
      "text/plain": [
       "1257.142857142857"
      ]
     },
     "execution_count": 61,
     "metadata": {},
     "output_type": "execute_result"
    }
   ],
   "source": [
    "def totalAreaSurfaceCylinder(R,H):\n",
    "    pi=22/7\n",
    "    area=2*pi*R*(R+H)\n",
    "    return area\n",
    "totalAreaSurfaceCylinder(10,10)"
   ]
  },
  {
   "cell_type": "code",
   "execution_count": null,
   "id": "3b88b2db-d02b-47dc-8a6c-3e31efb87823",
   "metadata": {},
   "outputs": [],
   "source": [
    "# 15. WRITE A PROGRAM TO CALCULATE THE DISTANCE TRAVELLED BY BODY. [S=UT+1/2AT2]"
   ]
  },
  {
   "cell_type": "code",
   "execution_count": 64,
   "id": "e8450d34-b420-44bf-9946-2d744266eca3",
   "metadata": {},
   "outputs": [
    {
     "data": {
      "text/plain": [
       "200.0"
      ]
     },
     "execution_count": 64,
     "metadata": {},
     "output_type": "execute_result"
    }
   ],
   "source": [
    "def distanceTravelled(Velociry,Time,Acceleration):\n",
    "    distaceCover=Velociry*Time+(1/2*Acceleration*Time*2)\n",
    "    return distaceCover\n",
    "distanceTravelled(10,10,10)"
   ]
  },
  {
   "cell_type": "code",
   "execution_count": null,
   "id": "fdeacf5d-7d48-4937-90b0-7f434d518da8",
   "metadata": {},
   "outputs": [],
   "source": [
    "# 16. WRITE A PROGRAM TO INPUT THE TEMPERATURE IN FAHRENHEIT AND DISPLAY IN DEGREE CELSIUS."
   ]
  },
  {
   "cell_type": "code",
   "execution_count": 65,
   "id": "eef7fbf7-bee7-4dbd-b116-cc616787e377",
   "metadata": {},
   "outputs": [
    {
     "data": {
      "text/plain": [
       "-17.22222222222222"
      ]
     },
     "execution_count": 65,
     "metadata": {},
     "output_type": "execute_result"
    }
   ],
   "source": [
    "def convertFahrenheitIntoDegree(fahrenheit):\n",
    "    degree=((fahrenheit - 32) * 5)/9\n",
    "    return degree\n",
    "convertFahrenheitIntoDegree(1)"
   ]
  },
  {
   "cell_type": "code",
   "execution_count": 69,
   "id": "87cfa239-9083-46bc-bc88-924f593b7276",
   "metadata": {},
   "outputs": [
    {
     "name": "stdout",
     "output_type": "stream",
     "text": [
      "2 4 6 8 10 12 14 16 18 20 "
     ]
    }
   ],
   "source": [
    "# 6. WRITE PROGRAM TO GENERATE FOLLOWING SERIES\n",
    "# A. 2, 4, 6, 8......... UP TO nTH TERM\n",
    "\n",
    "def evenNumber(num):\n",
    "    for i in range(2,num+1,2):\n",
    "        print(i,end=' ')\n",
    "        \n",
    "evenNumber(20)"
   ]
  },
  {
   "cell_type": "code",
   "execution_count": 76,
   "id": "3ae59824-f5b8-4cba-918f-c87a19aa9c8e",
   "metadata": {},
   "outputs": [
    {
     "name": "stdout",
     "output_type": "stream",
     "text": [
      "1 8 27 64 125 216 343 512 729 1000 1331 1728 2197 2744 3375 4096 4913 5832 6859 8000 "
     ]
    }
   ],
   "source": [
    "# B. 1, 8, 27, 64, .......... UP TO nTH TERM\n",
    "def cubeNumber(num):\n",
    "    for i in range(1,num+1,1):\n",
    "        cube=i**3\n",
    "        print(cube,end=' ')\n",
    "\n",
    "cubeNumber(20)"
   ]
  },
  {
   "cell_type": "code",
   "execution_count": 81,
   "id": "619ca119-b94b-4d25-8e92-0d03f38a2da0",
   "metadata": {},
   "outputs": [
    {
     "name": "stdout",
     "output_type": "stream",
     "text": [
      "100 98 96 94 92 90 88 86 84 82 "
     ]
    }
   ],
   "source": [
    "# C. 100, 98, 96, 94.... UP TO nTH TERM\n",
    "def hundredToNth(num):\n",
    "    for i in range(100,num,-2):\n",
    "        print(i,end=' ')\n",
    "\n",
    "hundredToNth(80)"
   ]
  },
  {
   "cell_type": "code",
   "execution_count": 85,
   "id": "3cdedd0a-a6fb-47a6-b0d8-bbf14271375d",
   "metadata": {},
   "outputs": [
    {
     "name": "stdout",
     "output_type": "stream",
     "text": [
      "1 4 9 16 25 36 49 64 81 100 121 "
     ]
    }
   ],
   "source": [
    "# D. 1, 4, 9, ......... UP TO nTH TERM\n",
    "def square(num):\n",
    "    for i in range(1,num+1):\n",
    "        square=i**2\n",
    "        print(square,end=' ')\n",
    "        \n",
    "square(11)"
   ]
  },
  {
   "cell_type": "code",
   "execution_count": null,
   "id": "10cde8d5-5832-4fa2-aa26-b4483c69b7b2",
   "metadata": {},
   "outputs": [],
   "source": [
    "# E. 5, 25, 125 .......... UP TO 10TH TERM"
   ]
  },
  {
   "cell_type": "code",
   "execution_count": 103,
   "id": "40cee0cf-9223-4caa-a07d-5344f4105720",
   "metadata": {},
   "outputs": [
    {
     "name": "stdout",
     "output_type": "stream",
     "text": [
      "5 25 125 625 3125 15625 78125 390625 1953125 9765625 "
     ]
    }
   ],
   "source": [
    "def multiple(num):\n",
    "    for i in range(1,num+1):\n",
    "        multi=5**i\n",
    "        print(multi,end=' ')\n",
    "        \n",
    "multiple(10)"
   ]
  },
  {
   "cell_type": "code",
   "execution_count": null,
   "id": "0d7dbc4d-ade6-4f51-b9ad-df41323a54af",
   "metadata": {},
   "outputs": [],
   "source": [
    "# F. 1, 2, 3, 6, 11, 20, 37.... UP TO 10TH TERM"
   ]
  },
  {
   "cell_type": "code",
   "execution_count": 107,
   "id": "13cc2809-8d63-4961-8a12-25f66e7758ba",
   "metadata": {},
   "outputs": [
    {
     "name": "stdout",
     "output_type": "stream",
     "text": [
      "1 2 3 6 11 20 37 68 125 230 423 778 1431 2632 "
     ]
    }
   ],
   "source": [
    "def sumOfThreeDigit(num):\n",
    "    a=1\n",
    "    b=2\n",
    "    c=3\n",
    "    print(a,b,c,end=' ')\n",
    "    for i in range(num+1):\n",
    "        d=a+b+c\n",
    "        print(d,end=' ')\n",
    "        a=b\n",
    "        b=c\n",
    "        c=d\n",
    "sumOfThreeDigit(10)"
   ]
  },
  {
   "cell_type": "code",
   "execution_count": null,
   "id": "275a021a-0468-480e-b48a-b538280d3354",
   "metadata": {},
   "outputs": [],
   "source": [
    "# 5, 16, 8, 4, 2, 1, 4, 2, 1, 4"
   ]
  },
  {
   "cell_type": "code",
   "execution_count": 115,
   "id": "473adeb2-a5cf-4695-aac9-77c84a9132d3",
   "metadata": {
    "scrolled": true,
    "tags": []
   },
   "outputs": [],
   "source": [
    "# if modules then divide num/2\n",
    "# if not then num*3+1"
   ]
  },
  {
   "cell_type": "code",
   "execution_count": 1,
   "id": "c1790dc4-253e-4d73-8f52-4b7a7631acec",
   "metadata": {},
   "outputs": [
    {
     "name": "stdout",
     "output_type": "stream",
     "text": [
      "5 16 8 4 2 1 4 2 1 4 2 1 4 2 1 4 2 1 4 2 1 4 2 1 4 2 1 4 2 1 4 2 1 4 2 1 4 2 1 4 2 1 4 2 1 4 2 1 4 2 "
     ]
    }
   ],
   "source": [
    "def series(num):\n",
    "    first=5\n",
    "    for i in range(num):\n",
    "        print(first,end=' ')\n",
    "        if first%2==0:\n",
    "            first=first//2\n",
    "        else:\n",
    "            first=first*3+1\n",
    "\n",
    "series(50)"
   ]
  },
  {
   "cell_type": "code",
   "execution_count": null,
   "id": "61a382ee-5155-43d7-9e3f-d767e7a87ad3",
   "metadata": {},
   "outputs": [],
   "source": [
    "# I. 2, 8, 18, 32, ........ UP TO 10TH TERM"
   ]
  },
  {
   "cell_type": "code",
   "execution_count": 10,
   "id": "188160bc-9be5-461d-97c0-0ba62f939212",
   "metadata": {},
   "outputs": [
    {
     "name": "stdout",
     "output_type": "stream",
     "text": [
      "2,8,18,32,50,72,98,128,162,200,242,288,338,392,450,512,578,648,722,800,"
     ]
    }
   ],
   "source": [
    "def increaseByFour(num):\n",
    "    A=2\n",
    "    B=6\n",
    "    for i in range(num):\n",
    "        print(A,end=',')\n",
    "        A=A+B\n",
    "        B=B+4\n",
    "        \n",
    "        \n",
    "        \n",
    "increaseByFour(20)"
   ]
  },
  {
   "cell_type": "code",
   "execution_count": null,
   "id": "94529cf7-5f92-40b6-b1df-cf694cea6eaf",
   "metadata": {},
   "outputs": [],
   "source": [
    "J. 7, 22, 11, 34, 17, 52, 26, 13, 40, 20."
   ]
  },
  {
   "cell_type": "code",
   "execution_count": 47,
   "id": "710ac93a-947c-4458-b1b3-9ec7e158ac83",
   "metadata": {},
   "outputs": [
    {
     "name": "stdout",
     "output_type": "stream",
     "text": [
      "7 22 11 34 17 52 26 13 40 20 10 5 16 8 4 2 1 4 2 1 "
     ]
    }
   ],
   "source": [
    "def increase(num):\n",
    "    A=7\n",
    "    for i in range(num):\n",
    "        print(A,end=' ')\n",
    "        if A%2==0:\n",
    "            A=A//2\n",
    "        else:\n",
    "            A=A*3+1\n",
    "            \n",
    "increase(20)\n",
    "            "
   ]
  },
  {
   "cell_type": "code",
   "execution_count": null,
   "id": "ab0ead1e-e710-4287-88eb-66f6ff96acaa",
   "metadata": {},
   "outputs": [],
   "source": [
    "# K. 1/2, 2/3, 3/4, ...... UP TO nTH TERM"
   ]
  },
  {
   "cell_type": "code",
   "execution_count": 49,
   "id": "d0e34964-6345-4ef3-9091-7965419f1319",
   "metadata": {},
   "outputs": [
    {
     "name": "stdout",
     "output_type": "stream",
     "text": [
      "1/2, 2/3, 3/4, 4/5, 5/6, 6/7, 7/8, 8/9, 9/10, "
     ]
    }
   ],
   "source": [
    "def fraction(num):\n",
    "    for i in range(1,num):\n",
    "        i2=i+1\n",
    "        \n",
    "        print(str(i)+\"/\"+str(i2),end=', ')\n",
    "\n",
    "fraction(10)"
   ]
  },
  {
   "cell_type": "code",
   "execution_count": 17,
   "id": "2304cc21-57b5-4df3-aeb8-eb873281e974",
   "metadata": {},
   "outputs": [],
   "source": [
    "# 7. WRITE A PROGRAM TO DISPLAY THE GICEN OUTPUT."
   ]
  },
  {
   "cell_type": "code",
   "execution_count": 28,
   "id": "49608a36-6e3d-41f7-af47-7d2b100b199b",
   "metadata": {},
   "outputs": [
    {
     "name": "stdout",
     "output_type": "stream",
     "text": [
      "10987654321\n",
      "987654321\n",
      "87654321\n",
      "7654321\n",
      "654321\n",
      "54321\n",
      "4321\n",
      "321\n",
      "21\n",
      "1\n"
     ]
    }
   ],
   "source": [
    "# A. 54321\n",
    "#    4321\n",
    "#    321\n",
    "#    21\n",
    "#    1\n",
    "\n",
    "def fiveToOne(num):\n",
    "    for i in range(num,0,-1):\n",
    "        for j in range(i,0,-1):\n",
    "            print(j,end='')\n",
    "        print()\n",
    "        \n",
    "fiveToOne(10)"
   ]
  },
  {
   "cell_type": "code",
   "execution_count": 40,
   "id": "411e080f-defd-4dd4-8196-03892b652858",
   "metadata": {},
   "outputs": [
    {
     "name": "stdout",
     "output_type": "stream",
     "text": [
      "111111111\n",
      "22222222\n",
      "3333333\n",
      "444444\n",
      "55555\n",
      "6666\n",
      "777\n",
      "88\n",
      "9\n"
     ]
    }
   ],
   "source": [
    "# B. 11111\n",
    "#    2222\n",
    "#    333\n",
    "#    44\n",
    "#    5\n",
    "\n",
    "def oneToFive(num):\n",
    "    for i in range(1,num+1):\n",
    "        for j in range(num+1,i,-1):\n",
    "            print(i,end='')\n",
    "        print()\n",
    "    \n",
    "oneToFive(9)"
   ]
  },
  {
   "cell_type": "code",
   "execution_count": 47,
   "id": "20422426-188e-4ba6-8ad5-4df8343755cf",
   "metadata": {},
   "outputs": [
    {
     "name": "stdout",
     "output_type": "stream",
     "text": [
      "9\n",
      "98\n",
      "987\n",
      "9876\n",
      "98765\n",
      "987654\n",
      "9876543\n",
      "98765432\n",
      "987654321\n"
     ]
    }
   ],
   "source": [
    "# C. 5\n",
    "#    54\n",
    "#    543\n",
    "#    5432\n",
    "#    54321\n",
    "\n",
    "def seriesFiveToOne(num):\n",
    "    for i in range(num,0,-1):\n",
    "        for j in range(num,i-1,-1):\n",
    "            print(j,end='')\n",
    "        print()\n",
    "seriesFiveToOne(9)"
   ]
  },
  {
   "cell_type": "code",
   "execution_count": 35,
   "id": "81482d62-7d30-44a5-9ba0-f0bb80ea7dc6",
   "metadata": {},
   "outputs": [],
   "source": [
    "# D. 1\n",
    "#    13\n",
    "#    135\n",
    "#    1357\n",
    "def oddSeries(num):\n",
    "    for i in range(1,num,2):\n",
    "        for j in range(1,i+1,2):\n",
    "            print(j,end='')\n",
    "        print()\n",
    "oddSeries(50)"
   ]
  },
  {
   "cell_type": "code",
   "execution_count": 42,
   "id": "7e1f0b18-f5ff-4317-8ce4-c8a72be831ab",
   "metadata": {},
   "outputs": [
    {
     "name": "stdout",
     "output_type": "stream",
     "text": [
      "123\n",
      "234\n",
      "345\n",
      "456\n",
      "567\n",
      "678\n",
      "789\n",
      "8910\n",
      "91011\n"
     ]
    }
   ],
   "source": [
    "# E. 1 2 3\n",
    "#    2 3 4\n",
    "#    3 4 5\n",
    "#    4 5 6\n",
    "#    5 6 7\n",
    "def countUptoNumber(num):\n",
    "    for i in range(1,num):\n",
    "        \n",
    "        for j in range(0,3):\n",
    "            print(i,end='')\n",
    "            i+=1\n",
    "        print()\n",
    "countUptoNumber(10)"
   ]
  },
  {
   "cell_type": "code",
   "execution_count": 46,
   "id": "d37a9a95-d705-403e-a147-d5eb100e6e48",
   "metadata": {},
   "outputs": [
    {
     "name": "stdout",
     "output_type": "stream",
     "text": [
      "1\n",
      "33\n",
      "555\n",
      "7777\n",
      "99999\n"
     ]
    }
   ],
   "source": [
    "# F. 1\n",
    "#    33\n",
    "#    555\n",
    "#    7777\n",
    "\n",
    "def repeatNumber(num):\n",
    "    for i in range(1,num,2):\n",
    "        for j in range(1,i+1,2):\n",
    "            print(i,end='')\n",
    "        print()\n",
    "repeatNumber(10)"
   ]
  }
 ],
 "metadata": {
  "kernelspec": {
   "display_name": "Python 3 (ipykernel)",
   "language": "python",
   "name": "python3"
  },
  "language_info": {
   "codemirror_mode": {
    "name": "ipython",
    "version": 3
   },
   "file_extension": ".py",
   "mimetype": "text/x-python",
   "name": "python",
   "nbconvert_exporter": "python",
   "pygments_lexer": "ipython3",
   "version": "3.9.12"
  },
  "vscode": {
   "interpreter": {
    "hash": "a7e8aacb4e94cb96fcd6d79898d1bdfc8fe77d2fd2ae575997f141a6470f2aa8"
   }
  }
 },
 "nbformat": 4,
 "nbformat_minor": 5
}

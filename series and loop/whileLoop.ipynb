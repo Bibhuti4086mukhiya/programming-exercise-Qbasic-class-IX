{
 "cells": [
  {
   "cell_type": "code",
   "execution_count": 2,
   "id": "9e50e1ab-66c7-4b55-9885-0faeb8f6d7d1",
   "metadata": {},
   "outputs": [
    {
     "name": "stdout",
     "output_type": "stream",
     "text": [
      "SWARNIM PUBLICATION PVT LTD 1\n",
      "SWARNIM PUBLICATION PVT LTD 2\n",
      "SWARNIM PUBLICATION PVT LTD 3\n",
      "SWARNIM PUBLICATION PVT LTD 4\n",
      "SWARNIM PUBLICATION PVT LTD 5\n",
      "SWARNIM PUBLICATION PVT LTD 6\n",
      "SWARNIM PUBLICATION PVT LTD 7\n",
      "SWARNIM PUBLICATION PVT LTD 8\n",
      "SWARNIM PUBLICATION PVT LTD 9\n",
      "SWARNIM PUBLICATION PVT LTD 10\n"
     ]
    }
   ],
   "source": [
    "# WRITE A PROGRAM TO DISPLAY \"SWARNIM PUBLICATION PVT LTD\" 10 TIMES USING WHILE \n",
    "i=0\n",
    "while (i<10):\n",
    "    i+=1\n",
    "    print(\"SWARNIM PUBLICATION PVT LTD\",i)"
   ]
  },
  {
   "cell_type": "code",
   "execution_count": null,
   "id": "931b22e6-a3fd-4969-b841-7c6dd4f13e7c",
   "metadata": {},
   "outputs": [],
   "source": [
    "# WRITE A PROGRAM TO PRINT FIRST 25 NUMBERS USING DO...LOOP\n",
    "#do....loop does not work in python"
   ]
  },
  {
   "cell_type": "code",
   "execution_count": 9,
   "id": "a13b291f-62bc-4d4b-9f7f-6c6d7ee82eed",
   "metadata": {},
   "outputs": [],
   "source": []
  }
 ],
 "metadata": {
  "kernelspec": {
   "display_name": "Python 3 (ipykernel)",
   "language": "python",
   "name": "python3"
  },
  "language_info": {
   "codemirror_mode": {
    "name": "ipython",
    "version": 3
   },
   "file_extension": ".py",
   "mimetype": "text/x-python",
   "name": "python",
   "nbconvert_exporter": "python",
   "pygments_lexer": "ipython3",
   "version": "3.10.8"
  }
 },
 "nbformat": 4,
 "nbformat_minor": 5
}

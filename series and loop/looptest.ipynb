{
 "cells": [
  {
   "cell_type": "code",
   "execution_count": 7,
   "id": "9dd345a2-62d9-4fa6-a030-3440982807e2",
   "metadata": {},
   "outputs": [],
   "source": []
  },
  {
   "cell_type": "code",
   "execution_count": 56,
   "id": "7d54a2a8-74c7-4e1e-ac94-2282d2b0f894",
   "metadata": {},
   "outputs": [
    {
     "name": "stdout",
     "output_type": "stream",
     "text": [
      "SHEKHAR\n",
      "SHEKHA\n",
      "SHEKH\n",
      "SHEK\n",
      "SHE\n",
      "SH\n",
      "S\n"
     ]
    }
   ],
   "source": [
    "word='SHEKHAR'\n",
    "# print(len(word))\n",
    "empty=list(word)\n",
    "print(word)\n",
    "for i in range(len(word)-1,0,-1):\n",
    "    empty[i]=''\n",
    "    word=''.join(empty)\n",
    "    print(word)  "
   ]
  },
  {
   "cell_type": "code",
   "execution_count": 3,
   "id": "14e10d94-01ba-4dac-a961-b5bc75cbd606",
   "metadata": {},
   "outputs": [
    {
     "name": "stdout",
     "output_type": "stream",
     "text": [
      "mystrung\n"
     ]
    }
   ],
   "source": [
    "str1 = \"mystring\"\n",
    "list1 = list(str1)\n",
    "list1[5] = 'u'\n",
    "str1 = ''.join(list1)\n",
    "print(str1)"
   ]
  },
  {
   "cell_type": "code",
   "execution_count": 7,
   "id": "cecdccff-eb85-4a8a-859d-e9d79214943b",
   "metadata": {},
   "outputs": [
    {
     "name": "stdout",
     "output_type": "stream",
     "text": [
      "17 16 15 14 13 12 11 10 9 8 7 6 5 4 3 2 1 \n",
      "16 15 14 13 12 11 10 9 8 7 6 5 4 3 2 1 \n",
      "15 14 13 12 11 10 9 8 7 6 5 4 3 2 1 \n",
      "14 13 12 11 10 9 8 7 6 5 4 3 2 1 \n",
      "13 12 11 10 9 8 7 6 5 4 3 2 1 \n",
      "12 11 10 9 8 7 6 5 4 3 2 1 \n",
      "11 10 9 8 7 6 5 4 3 2 1 \n",
      "10 9 8 7 6 5 4 3 2 1 \n",
      "9 8 7 6 5 4 3 2 1 \n",
      "8 7 6 5 4 3 2 1 \n",
      "7 6 5 4 3 2 1 \n",
      "6 5 4 3 2 1 \n",
      "5 4 3 2 1 \n",
      "4 3 2 1 \n",
      "3 2 1 \n",
      "2 1 \n",
      "1 \n"
     ]
    }
   ],
   "source": [
    "for i in range(17,0,-1):\n",
    "    for j in range(i,0,-1):\n",
    "        print(j,end=' ')\n",
    "    print()"
   ]
  }
 ],
 "metadata": {
  "kernelspec": {
   "display_name": "Python 3 (ipykernel)",
   "language": "python",
   "name": "python3"
  },
  "language_info": {
   "codemirror_mode": {
    "name": "ipython",
    "version": 3
   },
   "file_extension": ".py",
   "mimetype": "text/x-python",
   "name": "python",
   "nbconvert_exporter": "python",
   "pygments_lexer": "ipython3",
   "version": "3.10.8"
  }
 },
 "nbformat": 4,
 "nbformat_minor": 5
}

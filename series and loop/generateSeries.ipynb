{
 "cells": [
  {
   "cell_type": "code",
   "execution_count": 1,
   "id": "2c2406c2-53d2-4a08-9fe5-f61e693d38a4",
   "metadata": {},
   "outputs": [],
   "source": [
    "# 6. WRITE PROGRAM TO GENERATE FOLLOWING SERIES"
   ]
  },
  {
   "cell_type": "code",
   "execution_count": 2,
   "id": "902c42e9-5941-4bb5-89e1-2c7da2ab475b",
   "metadata": {},
   "outputs": [],
   "source": [
    "# A. 2, 4, 6, 8......... UP TO 10TH TERM"
   ]
  },
  {
   "cell_type": "code",
   "execution_count": 3,
   "id": "80acaf77-6029-4d83-adf0-e8a24ff0df56",
   "metadata": {},
   "outputs": [
    {
     "name": "stdout",
     "output_type": "stream",
     "text": [
      "2,3,4,5,6,7,8,9,10,"
     ]
    }
   ],
   "source": [
    "for i in range(2,11):\n",
    "    print(i,end=',')\n"
   ]
  },
  {
   "cell_type": "code",
   "execution_count": 4,
   "id": "80946cbf-8ca8-4dbc-88fb-1f7a3e2d7ecb",
   "metadata": {},
   "outputs": [],
   "source": [
    "# B. 1, 8, 27, 64, .......... UP TO 10TH TERM"
   ]
  },
  {
   "cell_type": "code",
   "execution_count": null,
   "id": "f5596286-b15b-4d8b-a90a-6d58a214e024",
   "metadata": {},
   "outputs": [],
   "source": [
    "for i in range(1,10):\n",
    "    print(i**3,end=',')"
   ]
  },
  {
   "cell_type": "code",
   "execution_count": 5,
   "id": "1d59134c-e90f-428f-b9f1-6eddd3a0f63f",
   "metadata": {},
   "outputs": [],
   "source": [
    "# 100, 98, 96, 94.... UP TO 10TH TERM"
   ]
  },
  {
   "cell_type": "code",
   "execution_count": null,
   "id": "1a3e7223-c11f-4492-93a4-f9a753c5d89d",
   "metadata": {},
   "outputs": [],
   "source": [
    "for i in range(100,80,-2):\n",
    "    print(i,end=',')\n"
   ]
  },
  {
   "cell_type": "code",
   "execution_count": 6,
   "id": "73fdb9dc-679a-498b-8543-337e72d7e191",
   "metadata": {},
   "outputs": [],
   "source": [
    "# D. 1, 4, 9, ......... UP TO 10TH TERM"
   ]
  },
  {
   "cell_type": "code",
   "execution_count": null,
   "id": "b94ddec0-3e3e-4e12-b858-765ce11cf595",
   "metadata": {},
   "outputs": [],
   "source": [
    "for i in range(1,11,1):\n",
    "    print(i*i,end=',')"
   ]
  },
  {
   "cell_type": "code",
   "execution_count": 7,
   "id": "c5c52880-c0ac-4cb3-84e4-2f3f98ffacd7",
   "metadata": {},
   "outputs": [],
   "source": [
    " # 5, 25, 125 .......... UP TO 10TH TERM"
   ]
  },
  {
   "cell_type": "code",
   "execution_count": null,
   "id": "da625b4d-a29f-4a8e-8e9e-4239298959fc",
   "metadata": {},
   "outputs": [],
   "source": [
    "i=1\n",
    "while (i<=10):\n",
    "    x=5**i\n",
    "    print(x,end=',')\n",
    "    i=i+1\n",
    "    \n",
    "    "
   ]
  },
  {
   "cell_type": "code",
   "execution_count": null,
   "id": "9bac4e22",
   "metadata": {},
   "outputs": [],
   "source": []
  },
  {
   "cell_type": "code",
   "execution_count": 8,
   "id": "ad46d94e-c87e-4d53-ab44-b861f8f4e010",
   "metadata": {},
   "outputs": [],
   "source": [
    "# F. 1, 2, 3, 6, 11, 20, 37.... UP TO 10TH TERM"
   ]
  },
  {
   "cell_type": "code",
   "execution_count": null,
   "id": "36784eb9-f898-49ee-a05d-047dfbe5cdbc",
   "metadata": {},
   "outputs": [],
   "source": []
  },
  {
   "cell_type": "code",
   "execution_count": 9,
   "id": "6e384067-1480-4bd9-97e4-994b6bb50468",
   "metadata": {},
   "outputs": [],
   "source": [
    " # 5, 16, 8, 4, 2, 1, 4, 2, 1, 4"
   ]
  },
  {
   "cell_type": "code",
   "execution_count": 11,
   "id": "213a0808-aba8-4197-8887-3418fe95a932",
   "metadata": {},
   "outputs": [
    {
     "name": "stdout",
     "output_type": "stream",
     "text": [
      "5,16,8,4,2,1,4,2,1,4,2,"
     ]
    }
   ],
   "source": [
    "num=5\n",
    "print(num,end=',')\n",
    "for i in range(10):\n",
    "    if num%2==0:\n",
    "        num=num//2\n",
    "        print(num,end=',')\n",
    "    else:\n",
    "        num=num*3+1\n",
    "        print(num,end=',')\n",
    "        "
   ]
  },
  {
   "cell_type": "code",
   "execution_count": 11,
   "id": "eafbc07c-212e-4d03-884b-f68156fa2834",
   "metadata": {},
   "outputs": [],
   "source": [
    "# 66666, 6666, 666, 66, 6."
   ]
  },
  {
   "cell_type": "code",
   "execution_count": 2,
   "id": "22790c70-16f4-4d02-a47b-7f1234a813a9",
   "metadata": {},
   "outputs": [
    {
     "name": "stdout",
     "output_type": "stream",
     "text": [
      "6,66,666,6666,66666,"
     ]
    }
   ],
   "source": [
    "is_str='6'\n",
    "\n",
    "def increaseWay(is_str):\n",
    "    i=1\n",
    "    otr_str = ''\n",
    "    while (i<6):\n",
    "        otr_str+=is_str\n",
    "        # print(otr_str,end=',')\n",
    "        print(otr_str,end=',')\n",
    "        i+=1\n",
    "    # return otr_str\n",
    "\n",
    "increaseWay(is_str)\n",
    "\n",
    "\n"
   ]
  },
  {
   "cell_type": "code",
   "execution_count": 28,
   "id": "96be2f42-8390-429e-803b-df33eec2ad21",
   "metadata": {},
   "outputs": [
    {
     "name": "stdout",
     "output_type": "stream",
     "text": [
      "5432,543,54,5,0,"
     ]
    }
   ],
   "source": [
    "num=666666\n",
    "for i in range(1,6):\n",
    "    num=num//10\n",
    "    print(num,end=',')"
   ]
  },
  {
   "cell_type": "code",
   "execution_count": null,
   "id": "35b82597-bf9c-4e6d-b909-34f38339c6bf",
   "metadata": {},
   "outputs": [],
   "source": [
    "# F. 1, 2, 3, 6, 11, 20, 37.... UP TO 10TH TERM"
   ]
  },
  {
   "cell_type": "code",
   "execution_count": null,
   "id": "81d9f3db-aa4a-4942-875b-e7a3c2d87453",
   "metadata": {},
   "outputs": [],
   "source": [
    "# F. 1, 2, 3, 6, 11, 20, 37.... UP TO 10TH TERM\n",
    "a=1 \n",
    "b=2\n",
    "c=3\n",
    "print(a,end=',')\n",
    "print(b,end=',')\n",
    "print(c,end=',')\n",
    "d=a+b+c\n",
    "print(d,end=',')\n",
    "for i in range(10):\n",
    "    a=b\n",
    "    b=c\n",
    "    c=d\n",
    "    d=c\n",
    "    d=a+b+c\n",
    "    print(d,end=',')\n"
   ]
  },
  {
   "cell_type": "code",
   "execution_count": null,
   "id": "f1b0fbf8-ff04-42b4-b041-af18662bea97",
   "metadata": {},
   "outputs": [],
   "source": [
    " # 2, 8, 18, 32, ........ UP TO 10TH TERM"
   ]
  },
  {
   "cell_type": "code",
   "execution_count": 2,
   "id": "f0ce7734-63e0-4a43-8f08-335e76da89f0",
   "metadata": {},
   "outputs": [
    {
     "name": "stdout",
     "output_type": "stream",
     "text": [
      "2,8,18,32,50,72,98,128,162,200,"
     ]
    }
   ],
   "source": [
    "a=2\n",
    "b=6\n",
    "for i in range(10):\n",
    "    print(a,end=',')\n",
    "    a=a+b\n",
    "    b=b+4\n",
    "    "
   ]
  },
  {
   "cell_type": "code",
   "execution_count": null,
   "id": "5ae6fe31-6943-44a0-8bad-d13deccce949",
   "metadata": {},
   "outputs": [],
   "source": [
    " # 7, 22, 11, 34, 17, 52, 26, 13, 40, 20."
   ]
  },
  {
   "cell_type": "code",
   "execution_count": 13,
   "id": "8819be46-e147-442c-aff9-85bbadbb96f3",
   "metadata": {},
   "outputs": [
    {
     "name": "stdout",
     "output_type": "stream",
     "text": [
      "7,22,11,34,17,52,26,13,40,20,"
     ]
    }
   ],
   "source": [
    "num=7\n",
    "print(num,end=',')\n",
    "for i in range(9):\n",
    "    if num%2==0:\n",
    "        num=num//2\n",
    "        print(num,end=',')\n",
    "    else:\n",
    "        num=num*3+1\n",
    "        print(num,end=',')"
   ]
  },
  {
   "cell_type": "code",
   "execution_count": null,
   "id": "668cdbd6-144e-4751-86cc-03026a329620",
   "metadata": {},
   "outputs": [],
   "source": [
    "# 1/2, 2/3, 3/4, ...... UP TO 10TH TERM"
   ]
  },
  {
   "cell_type": "code",
   "execution_count": 18,
   "id": "1a548f0e-ae09-4046-8fb1-bc116728e3db",
   "metadata": {},
   "outputs": [
    {
     "name": "stdout",
     "output_type": "stream",
     "text": [
      "1 / 2,2 / 3,3 / 4,4 / 5,5 / 6,6 / 7,7 / 8,8 / 9,9 / 10,"
     ]
    }
   ],
   "source": [
    "\n",
    "for i in range(1,10):\n",
    "    print(i,'/', i+1,end=',')\n",
    "    \n",
    "    "
   ]
  },
  {
   "cell_type": "code",
   "execution_count": 20,
   "id": "d74551fb-46cb-4c77-8495-8b8d1ccfdaae",
   "metadata": {},
   "outputs": [],
   "source": [
    "# 7. WRITE A PROGRAM TO DISPLAY THE GIVEN OUTPUT."
   ]
  },
  {
   "cell_type": "code",
   "execution_count": null,
   "id": "33e48c7f-4609-4603-b729-4be38f6747ea",
   "metadata": {},
   "outputs": [],
   "source": [
    "# A. 54321\n",
    "#    4321\n",
    "#    321\n",
    "#    21\n",
    "#    1"
   ]
  },
  {
   "cell_type": "code",
   "execution_count": 9,
   "id": "88169dfe-2fbd-4a1f-b018-18a33c155ace",
   "metadata": {},
   "outputs": [
    {
     "name": "stdout",
     "output_type": "stream",
     "text": [
      "54321\n",
      "4321\n",
      "321\n",
      "21\n",
      "1\n"
     ]
    }
   ],
   "source": [
    "for i in range(5,0,-1):\n",
    "    for j in range(i,0,-1):\n",
    "        print(j,end='')\n",
    "    print()     "
   ]
  },
  {
   "cell_type": "code",
   "execution_count": 1,
   "id": "1189f4a8-5d73-4d94-95ce-a5100f43c8ea",
   "metadata": {},
   "outputs": [
    {
     "name": "stdout",
     "output_type": "stream",
     "text": [
      "11111\n",
      "2222\n",
      "333\n",
      "44\n",
      "5\n"
     ]
    }
   ],
   "source": [
    "for i in range(1,6):\n",
    "    for j in range(6,i,-1):\n",
    "        print(i,end='') \n",
    "    print()"
   ]
  },
  {
   "cell_type": "code",
   "execution_count": 1,
   "id": "96cda1e5-8fa2-4b85-a3e0-05f6b79f815b",
   "metadata": {},
   "outputs": [
    {
     "name": "stdout",
     "output_type": "stream",
     "text": [
      "1\n",
      "33\n",
      "555\n",
      "7777\n"
     ]
    }
   ],
   "source": [
    "for i in range(1,8,2):\n",
    "    for j in range(1,i+1,2):\n",
    "        print(i,end='')\n",
    "    print()"
   ]
  },
  {
   "cell_type": "code",
   "execution_count": 2,
   "id": "9bc221de-dacf-4ddf-96dd-01e6e5ccc90f",
   "metadata": {},
   "outputs": [
    {
     "name": "stdout",
     "output_type": "stream",
     "text": [
      "123\n",
      "234\n",
      "345\n",
      "456\n",
      "567\n"
     ]
    }
   ],
   "source": [
    "for i in range(1,6):\n",
    "    for j in range(i,i+3):\n",
    "        print(j,end='')\n",
    "    print()"
   ]
  },
  {
   "cell_type": "code",
   "execution_count": 3,
   "id": "a8862220-fad4-4c77-a761-1e1d5ed894f0",
   "metadata": {},
   "outputs": [
    {
     "name": "stdout",
     "output_type": "stream",
     "text": [
      "1\n",
      "13\n",
      "135\n",
      "1357\n"
     ]
    }
   ],
   "source": [
    "for i in range(1,8,2):\n",
    "    for j in range(1,i+1,2):\n",
    "        print(j,end='')\n",
    "    print() "
   ]
  },
  {
   "cell_type": "code",
   "execution_count": 4,
   "id": "e5dddc18-5710-47d6-99db-28ca9114fec3",
   "metadata": {},
   "outputs": [
    {
     "name": "stdout",
     "output_type": "stream",
     "text": [
      "5\n",
      "54\n",
      "543\n",
      "5432\n",
      "54321\n"
     ]
    }
   ],
   "source": [
    "for i in range(5,0,-1):\n",
    "    for j in range(5,i-1,-1):\n",
    "        print(j,end='')\n",
    "    print()"
   ]
  },
  {
   "cell_type": "code",
   "execution_count": 1,
   "id": "d73e70e6-af6f-4dac-8550-19f3d86c0d61",
   "metadata": {},
   "outputs": [
    {
     "name": "stdout",
     "output_type": "stream",
     "text": [
      "SHEKHAR\n",
      "SHEKHA\n",
      "SHEKH\n",
      "SHEK\n",
      "SHE\n",
      "SH\n",
      "S\n"
     ]
    }
   ],
   "source": [
    "word='SHEKHAR'\n",
    "# print(len(word))\n",
    "empty=list(word)\n",
    "print(word)\n",
    "for i in range(len(word)-1,0,-1):\n",
    "    empty[i]=''\n",
    "    word=''.join(empty)\n",
    "    print(word)  "
   ]
  },
  {
   "cell_type": "code",
   "execution_count": null,
   "id": "28c15c83-e931-405a-8f75-1c88142d9812",
   "metadata": {},
   "outputs": [],
   "source": [
    "# 5\n",
    "# 40\n",
    "# 300\n",
    "# 2000\n",
    "# 10000"
   ]
  },
  {
   "cell_type": "code",
   "execution_count": 87,
   "id": "a56b6a78-6a09-4278-806f-40e450cabf31",
   "metadata": {},
   "outputs": [
    {
     "name": "stdout",
     "output_type": "stream",
     "text": [
      "5\n",
      "40\n",
      "300\n",
      "2000\n",
      "10000\n"
     ]
    }
   ],
   "source": [
    "j=1\n",
    "for i in range(5,0,-1):\n",
    "    # print(j)\n",
    "    print(i*j)\n",
    "    j=j*10"
   ]
  },
  {
   "cell_type": "code",
   "execution_count": null,
   "id": "0b2ad64f-9c74-4f9e-baa5-eb6a5de917dc",
   "metadata": {},
   "outputs": [],
   "source": [
    "# 15 14 13 12 11\n",
    "# 10 9 8 7\n",
    "# 6 5 4\n",
    "# 3 2\n",
    "# 1"
   ]
  },
  {
   "cell_type": "code",
   "execution_count": 99,
   "id": "9ab97c3d-409e-4325-89a7-fd85244e759a",
   "metadata": {},
   "outputs": [
    {
     "name": "stdout",
     "output_type": "stream",
     "text": [
      "15 14 13 12 11 \n",
      "10 9 8 7 \n",
      "6 5 4 \n",
      "3 2 \n",
      "1 \n"
     ]
    }
   ],
   "source": [
    "k=15\n",
    "for i in range(5,0,-1):\n",
    "    for j in range(i):\n",
    "        print(k,end=' ')\n",
    "        k=k-1\n",
    "    print()\n",
    "    \n"
   ]
  },
  {
   "cell_type": "code",
   "execution_count": 101,
   "id": "4def03e3-e79b-48a3-926f-873c749b63a7",
   "metadata": {},
   "outputs": [],
   "source": [
    "# *\n",
    "# ***\n",
    "# *****\n",
    "# *******\n",
    "# *****\n",
    "# ***\n",
    "# *"
   ]
  },
  {
   "cell_type": "code",
   "execution_count": 3,
   "id": "1caa0f92-4ffd-4128-84fc-6e06d918b348",
   "metadata": {},
   "outputs": [
    {
     "name": "stdout",
     "output_type": "stream",
     "text": [
      "*****\n",
      "****\n",
      "***\n",
      "**\n",
      "*\n"
     ]
    }
   ],
   "source": [
    "maxNum=5\n",
    "# for i in range(1,maxNum+1,2):\n",
    "#      print(\"*\"*i)\n",
    "for j in range(maxNum,0,-1):\n",
    "    print('*'*j)\n",
    "\n",
    "\n"
   ]
  },
  {
   "cell_type": "code",
   "execution_count": 42,
   "id": "3c189138-b9a3-4e49-81db-5c4d399b37d4",
   "metadata": {},
   "outputs": [
    {
     "name": "stdout",
     "output_type": "stream",
     "text": [
      "1 3 5 7 5 3 1 "
     ]
    }
   ],
   "source": [
    "maxNum=7\n",
    "for i in range(1,maxNum+1,2):\n",
    "    print(i,end=' ')\n",
    "    if i==maxNum:\n",
    "        for j in range(maxNum-2,0,-2):\n",
    "                print(j,end=' ')\n",
    "     \n"
   ]
  }
 ],
 "metadata": {
  "kernelspec": {
   "display_name": "Python 3 (ipykernel)",
   "language": "python",
   "name": "python3"
  },
  "language_info": {
   "codemirror_mode": {
    "name": "ipython",
    "version": 3
   },
   "file_extension": ".py",
   "mimetype": "text/x-python",
   "name": "python",
   "nbconvert_exporter": "python",
   "pygments_lexer": "ipython3",
   "version": "3.10.8"
  }
 },
 "nbformat": 4,
 "nbformat_minor": 5
}
